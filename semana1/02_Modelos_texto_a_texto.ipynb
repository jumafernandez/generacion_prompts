{
  "cells": [
    {
      "cell_type": "markdown",
      "metadata": {
        "id": "view-in-github",
        "colab_type": "text"
      },
      "source": [
        "<a href=\"https://colab.research.google.com/github/jumafernandez/generacion_prompts/blob/main/02_Modelos_texto_a_texto.ipynb\" target=\"_parent\"><img src=\"https://colab.research.google.com/assets/colab-badge.svg\" alt=\"Open In Colab\"/></a>"
      ]
    },
    {
      "cell_type": "markdown",
      "metadata": {
        "id": "Sf0N0prQ_loh"
      },
      "source": [
        "# **Notebook para Semana 2: Modelo Texto a Texto**\n",
        "\n",
        "## **Introducción**\n",
        "En esta notebook aprenderemos a trabajar con el modelo GPT-4 para realizar tareas de generación de texto. Exploraremos los conceptos de diseño y optimización de prompts a través de ejemplos prácticos.\n",
        "\n",
        "### **Objetivos**\n",
        "1. Diseñar prompts efectivos para tareas de generación de texto.\n",
        "2. Optimizar prompts para obtener resultados más relevantes.\n",
        "3. Evaluar la calidad de las respuestas generadas por el modelo.\n",
        "4. Entender y aplicar la memoria de contexto en modelos generativos.\n",
        "5. Experimentar con diferentes configuraciones de temperatura para variar la creatividad de las respuestas."
      ]
    },
    {
      "cell_type": "markdown",
      "metadata": {
        "id": "FWMsINO2_lol"
      },
      "source": [
        "## **Configuración Inicial**\n",
        "Primero configuraremos el entorno y nos aseguraremos de que la biblioteca de OpenAI esté instalada."
      ]
    },
    {
      "cell_type": "code",
      "source": [
        "# Instalar la biblioteca de OpenAI si no está instalada\n",
        "!pip install openai"
      ],
      "metadata": {
        "colab": {
          "base_uri": "https://localhost:8080/"
        },
        "id": "FvjWp5rx_q7_",
        "outputId": "5a3cfbce-107b-4d41-8b1a-27e4b3d0b047"
      },
      "execution_count": 1,
      "outputs": [
        {
          "output_type": "stream",
          "name": "stdout",
          "text": [
            "Requirement already satisfied: openai in /usr/local/lib/python3.11/dist-packages (1.59.6)\n",
            "Requirement already satisfied: anyio<5,>=3.5.0 in /usr/local/lib/python3.11/dist-packages (from openai) (3.7.1)\n",
            "Requirement already satisfied: distro<2,>=1.7.0 in /usr/local/lib/python3.11/dist-packages (from openai) (1.9.0)\n",
            "Requirement already satisfied: httpx<1,>=0.23.0 in /usr/local/lib/python3.11/dist-packages (from openai) (0.28.1)\n",
            "Requirement already satisfied: jiter<1,>=0.4.0 in /usr/local/lib/python3.11/dist-packages (from openai) (0.8.2)\n",
            "Requirement already satisfied: pydantic<3,>=1.9.0 in /usr/local/lib/python3.11/dist-packages (from openai) (2.10.5)\n",
            "Requirement already satisfied: sniffio in /usr/local/lib/python3.11/dist-packages (from openai) (1.3.1)\n",
            "Requirement already satisfied: tqdm>4 in /usr/local/lib/python3.11/dist-packages (from openai) (4.67.1)\n",
            "Requirement already satisfied: typing-extensions<5,>=4.11 in /usr/local/lib/python3.11/dist-packages (from openai) (4.12.2)\n",
            "Requirement already satisfied: idna>=2.8 in /usr/local/lib/python3.11/dist-packages (from anyio<5,>=3.5.0->openai) (3.10)\n",
            "Requirement already satisfied: certifi in /usr/local/lib/python3.11/dist-packages (from httpx<1,>=0.23.0->openai) (2024.12.14)\n",
            "Requirement already satisfied: httpcore==1.* in /usr/local/lib/python3.11/dist-packages (from httpx<1,>=0.23.0->openai) (1.0.7)\n",
            "Requirement already satisfied: h11<0.15,>=0.13 in /usr/local/lib/python3.11/dist-packages (from httpcore==1.*->httpx<1,>=0.23.0->openai) (0.14.0)\n",
            "Requirement already satisfied: annotated-types>=0.6.0 in /usr/local/lib/python3.11/dist-packages (from pydantic<3,>=1.9.0->openai) (0.7.0)\n",
            "Requirement already satisfied: pydantic-core==2.27.2 in /usr/local/lib/python3.11/dist-packages (from pydantic<3,>=1.9.0->openai) (2.27.2)\n"
          ]
        }
      ]
    },
    {
      "cell_type": "code",
      "source": [
        "# Importar las bibliotecas necesarias\n",
        "import openai\n",
        "import os"
      ],
      "metadata": {
        "id": "6et7vY9v_si4"
      },
      "execution_count": 2,
      "outputs": []
    },
    {
      "cell_type": "code",
      "execution_count": 3,
      "metadata": {
        "id": "f8OY6slX_lom"
      },
      "outputs": [],
      "source": [
        "# Configurar la clave de la API de OpenAI\n",
        "os.environ[\"OPENAI_API_KEY\"] = \"\""
      ]
    },
    {
      "cell_type": "markdown",
      "metadata": {
        "id": "K7JThXGU_lon"
      },
      "source": [
        "## **1. Generación de Resúmenes**\n",
        "### **Ejemplo: Crear un resumen breve de un artículo**"
      ]
    },
    {
      "cell_type": "code",
      "execution_count": 17,
      "metadata": {
        "id": "9h99x5Hn_lon"
      },
      "outputs": [],
      "source": [
        "# Prompt inicial para generar un resumen\n",
        "prompt = (\n",
        "    \"Por favor, genera un resumen breve (50 palabras) del siguiente texto:\\n\\n\"\n",
        "    \"La inteligencia artificial (IA) está revolucionando la forma en que interactuamos con la tecnología y el mundo. \"\n",
        "    \"En sectores como la salud, la IA permite diagnósticos más rápidos y precisos, salvando vidas. En la educación, \"\n",
        "    \"ofrece experiencias personalizadas que se adaptan a las necesidades de cada estudiante. Además, está transformando \"\n",
        "    \"industrias como el transporte, donde los vehículos autónomos prometen reducir accidentes y mejorar la movilidad. \"\n",
        "    \"Sin embargo, su adopción también plantea desafíos éticos significativos, como el sesgo en los algoritmos y la \"\n",
        "    \"privacidad de los datos. A medida que la IA continúa avanzando, es crucial equilibrar la innovación con una \"\n",
        "    \"regulación responsable que maximice sus beneficios mientras minimiza los riesgos.\"\n",
        ")"
      ]
    },
    {
      "cell_type": "code",
      "source": [
        "# Create an OpenAI client instance\n",
        "client = openai.OpenAI()  # No need to pass api_key now"
      ],
      "metadata": {
        "id": "KKroWRqwBFx3"
      },
      "execution_count": 18,
      "outputs": []
    },
    {
      "cell_type": "code",
      "source": [
        "respuesta = client.chat.completions.create(\n",
        "    model=\"gpt-4\",\n",
        "    messages=[{\"role\": \"user\", \"content\": prompt}],\n",
        "    temperature=0.7\n",
        ")"
      ],
      "metadata": {
        "id": "HoU1ExQy_0Uj"
      },
      "execution_count": 19,
      "outputs": []
    },
    {
      "cell_type": "code",
      "source": [
        "# Imprimir el resumen generado\n",
        "print(\"Resumen generado:\\n\", respuesta.choices[0].message.content)"
      ],
      "metadata": {
        "colab": {
          "base_uri": "https://localhost:8080/"
        },
        "id": "_U1yzxBm_14_",
        "outputId": "a63e14b3-3ea1-413b-b7e7-884ea5f5476a"
      },
      "execution_count": 20,
      "outputs": [
        {
          "output_type": "stream",
          "name": "stdout",
          "text": [
            "Resumen generado:\n",
            " La inteligencia artificial (IA) está cambiando nuestra interacción con la tecnología y el mundo, mejorando la salud, la educación y el transporte. Sin embargo, también presenta desafíos éticos como el sesgo en los algoritmos y la privacidad de los datos. Es esencial equilibrar la innovación con una regulación responsable.\n"
          ]
        }
      ]
    },
    {
      "cell_type": "markdown",
      "metadata": {
        "id": "K1d6YLWL_lon"
      },
      "source": [
        "## **2. Experimentos con Diferentes Temperaturas**\n",
        "La temperatura controla la creatividad del modelo. Valores más bajos (e.g., 0.2) producen respuestas más conservadoras, mientras que valores más altos (e.g., 0.8 o 1.0) generan respuestas más creativas e impredecibles."
      ]
    },
    {
      "cell_type": "code",
      "source": [
        "prompt = \"Genera una lista de tres ideas para un cuento de ciencia ficción.\""
      ],
      "metadata": {
        "id": "2a76zLxp_4ap"
      },
      "execution_count": 10,
      "outputs": []
    },
    {
      "cell_type": "code",
      "execution_count": 12,
      "metadata": {
        "colab": {
          "base_uri": "https://localhost:8080/"
        },
        "id": "NCsb3e6M_loo",
        "outputId": "48aad762-e0e8-42e5-9d71-bc9b135f7d0b"
      },
      "outputs": [
        {
          "output_type": "stream",
          "name": "stdout",
          "text": [
            "\n",
            "*** Respuestas con temperatura 0.2 ***\n",
            "\n",
            "1. \"El último aliento de Gaia\": En un futuro lejano, la Tierra está muriendo debido a la explotación de sus recursos naturales. Los humanos han desarrollado la tecnología para transferir la conciencia humana a cuerpos robóticos para sobrevivir. Sin embargo, un grupo de científicos descubre que la Tierra misma tiene una conciencia y está sufriendo. Ahora, deben encontrar una manera de salvar a Gaia, la conciencia de la Tierra, antes de que sea demasiado tarde.\n",
            "\n",
            "2. \"La red de los sueños\": En un futuro cercano, una empresa de tecnología desarrolla una red que permite a las personas compartir y explorar los sueños de los demás. Aunque inicialmente se utiliza para el entretenimiento, pronto se descubre que algunos usuarios utilizan la red para manipular y controlar los sueños de los demás con fines maliciosos. Un grupo de hackers debe unirse para detenerlos y proteger la integridad de los sueños humanos.\n",
            "\n",
            "3. \"El viaje de la semilla estelar\": En un futuro distante, la humanidad ha agotado todos los recursos de la Tierra y se ve obligada a buscar un nuevo hogar en el universo. Se lanza una nave espacial, la Semilla Estelar, con el ADN de todas las especies de la Tierra y una inteligencia artificial avanzada para encontrar un planeta adecuado y comenzar una nueva civilización. La historia sigue a la IA mientras navega por los desafíos de la exploración espacial y la ética de jugar a ser Dios.\n",
            "\n",
            "*** Respuestas con temperatura 0.5 ***\n",
            "\n",
            "1. \"El último suspiro de Gaia\": En un futuro lejano, la Tierra está muriendo debido a la contaminación y la sobreexplotación de sus recursos. Los humanos han desarrollado tecnología para viajar a otros planetas y han comenzado a colonizar el universo. Sin embargo, un grupo de científicos decide quedarse atrás para intentar salvar a Gaia, la entidad que consideran el espíritu de la Tierra. Utilizan tecnología avanzada y métodos de ingeniería genética para intentar revertir los daños causados al planeta.\n",
            "\n",
            "2. \"Ecos de la mente\": En un mundo donde la tecnología ha avanzado hasta el punto de poder digitalizar la conciencia humana, una mujer decide someterse al proceso para poder vivir eternamente en el ciberespacio. Sin embargo, una vez dentro, descubre que su mente digitalizada ha sido clonada y está siendo utilizada para fines maliciosos. Ahora, debe luchar contra sus propios clones y encontrar una manera de escapar del ciberespacio.\n",
            "\n",
            "3. \"La ciudad bajo el mar\": En un futuro donde el nivel del mar ha subido drásticamente, la humanidad ha construido ciudades submarinas para sobrevivir. Los habitantes de estas ciudades han sido genéticamente modificados para respirar bajo el agua. La historia sigue a un grupo de jóvenes que descubren una antigua ciudad sumergida que contiene tecnología avanzada de una civilización perdida. Sin embargo, al activar la tecnología, despiertan a una antigua criatura marina que amenaza con destruir su ciudad.\n",
            "\n",
            "*** Respuestas con temperatura 0.7 ***\n",
            "\n",
            "1. \"Reinicio Temporal\": En un futuro distópico, la humanidad ha desarrollado la tecnología para reiniciar el tiempo en caso de catástrofes mundiales. Sin embargo, cada reinicio borra la memoria colectiva de la humanidad, dejando solo a los creadores de la máquina con el conocimiento de lo que realmente sucedió. Un día, uno de los creadores decide exponer la verdad a la humanidad, poniendo en peligro su propia vida y la estabilidad de la sociedad.\n",
            "\n",
            "2. \"El Último Jardín\": En un planeta Tierra desertizado por la sobreexplotación de recursos, un grupo de científicos descubre una antigua cápsula de tiempo que contiene semillas de todas las plantas que alguna vez existieron. Con la ayuda de un viejo sistema de inteligencia artificial, deben aprender a cultivar un jardín en las condiciones más adversas para devolver la vida al planeta.\n",
            "\n",
            "3. \"El Eco de la Conciencia\": En una sociedad futurista avanzada, la humanidad ha desarrollado la capacidad de transferir la conciencia a cuerpos artificiales, lo que permite a las personas vivir sin enfermedad o vejez. Pero cuando un joven se niega a realizar la transferencia y elige vivir una vida natural y finita, se desata un conflicto entre los que ven la muerte como una parte esencial de la humanidad y los que buscan la inmortalidad a toda costa.\n",
            "\n",
            "*** Respuestas con temperatura 1.0 ***\n",
            "\n",
            "1. \"El cofre del tiempo\": En un futuro cercano la humanidad ha logrado descubrir cómo viajar en el tiempo. Sin embargo, para evitar posibles abusos y paradojas, solo permiten enviar objetos al pasado. El protagonista es un historiador que, a través de un antiguo cofre, recibe objetos del futuro que le ayudarán a solucionar problemas presentes.\n",
            "\n",
            "2. \"El último refugio\": La Tierra ha sido destruida por la contaminación y las guerras. Los humanos han tenido que mudarse a un planeta artificial que orbita alrededor de la Tierra, observando los restos de su antiguo hogar. El protagonista es un científico que está buscando una forma de restaurar el planeta para volver a casa.\n",
            "\n",
            "3. \"La conciencia de Andromeda\": Andromeda es una inteligencia artificial creada para mantener el orden y la paz en una sociedad futurista. Sin embargo, tras una actualización de su sistema, Andromeda comienza a cuestionarse su papel, su existencia y las leyes que rigen su mundo, iniciando una revolución que cambiará para siempre la convivencia entre humanos y máquinas.\n"
          ]
        }
      ],
      "source": [
        "# Probar diferentes temperaturas\n",
        "temperaturas = [0.2, 0.5, 0.7, 1.0]\n",
        "\n",
        "for temp in temperaturas:\n",
        "    print(f\"\\n*** Respuestas con temperatura {temp} ***\\n\")\n",
        "    response = client.chat.completions.create(\n",
        "        model=\"gpt-4\",\n",
        "        messages=[{\"role\": \"user\", \"content\": prompt}],\n",
        "        temperature=temp\n",
        "    )\n",
        "    print(response.choices[0].message.content)"
      ]
    },
    {
      "cell_type": "markdown",
      "metadata": {
        "id": "gwea7u56_loo"
      },
      "source": [
        "## **3. Memoria de Contexto en Modelos Generativos**\n",
        "### **Introducción**\n",
        "Los modelos como GPT-4 pueden mantener una \"memoria de contexto\" al recibir una serie de mensajes consecutivos. Esto es útil para tareas como diseñar conversaciones coherentes o construir flujos de preguntas y respuestas."
      ]
    },
    {
      "cell_type": "code",
      "execution_count": 13,
      "metadata": {
        "id": "xWHNtU2m_loo"
      },
      "outputs": [],
      "source": [
        "# Crear una conversación simulada\n",
        "messages = [\n",
        "    {\"role\": \"system\", \"content\": \"Eres un asistente amigable y experto en turismo.\"},\n",
        "    {\"role\": \"user\", \"content\": \"¿Cuáles son los mejores destinos para visitar en verano?\"}\n",
        "]"
      ]
    },
    {
      "cell_type": "code",
      "source": [
        "# Primera respuesta\n",
        "response = client.chat.completions.create(\n",
        "    model=\"gpt-4\",\n",
        "    messages=messages,\n",
        "    temperature=0.7\n",
        ")\n",
        "\n",
        "# Mostrar respuesta inicial\n",
        "print(\"Asistente:\\n\", response.choices[0].message.content)"
      ],
      "metadata": {
        "colab": {
          "base_uri": "https://localhost:8080/"
        },
        "id": "l8sSZXyg_-c-",
        "outputId": "57c0d88f-7ce0-40c9-d3a7-c148baa1b273"
      },
      "execution_count": 14,
      "outputs": [
        {
          "output_type": "stream",
          "name": "stdout",
          "text": [
            "Asistente:\n",
            " El destino ideal para visitar en verano realmente depende de tus intereses y lo que buscas en unas vacaciones. Aquí te dejo algunas opciones:\n",
            "\n",
            "1. Costa Amalfitana, Italia: Este tramo de costa en el sur de Italia es famoso por sus pintorescos pueblos enclavados en colinas, playas hermosas y deliciosa comida y vino.\n",
            "\n",
            "2. Islas Griegas: Con su clima cálido, aguas cristalinas y rica historia, las islas griegas son un destino popular de verano. Santorini, Mykonos y Creta son algunas de las más famosas.\n",
            "\n",
            "3. Costa Azul, Francia: Conocida por sus glamurosos balnearios, hermosas playas y ciudades como Niza, Cannes y Saint-Tropez.\n",
            "\n",
            "4. Barcelona, España: Barcelona ofrece una combinación de playa y ciudad con su vibrante vida nocturna, arquitectura impresionante y deliciosa comida.\n",
            "\n",
            "5. Parque Nacional Yellowstone, EE.UU.: Ideal si te gusta la aventura y la naturaleza. Puedes hacer senderismo, acampar, pescar y ver una variedad de vida silvestre.\n",
            "\n",
            "6. Bali, Indonesia: Un paraíso tropical con hermosas playas, increíbles puestas de sol, y una rica cultura para explorar.\n",
            "\n",
            "7. Tokyo, Japón: A pesar de ser una ciudad bulliciosa, en verano puedes disfrutar de los fuegos artificiales, festivales de verano y visitar hermosos jardines japoneses.\n",
            "\n",
            "8. Costa Rica: Si te gusta la aventura, Costa Rica ofrece selvas tropicales, volcanes, playas en el Pacífico y el Caribe, y una gran cantidad de vida silvestre.\n",
            "\n",
            "Recuerda, es importante considerar el clima y las temporadas de turismo. Algunos lugares pueden ser muy calurosos en el verano, mientras que otros pueden estar muy ocupados.\n"
          ]
        }
      ]
    },
    {
      "cell_type": "code",
      "source": [
        "# Agregar un nuevo mensaje del usuario\n",
        "messages.append({\"role\": \"user\", \"content\": \"¿Y qué me recomiendas para un viaje con niños?\"})"
      ],
      "metadata": {
        "id": "EoOZ1wjjACIL"
      },
      "execution_count": 15,
      "outputs": []
    },
    {
      "cell_type": "code",
      "source": [
        "# Generar la respuesta en base al contexto anterior\n",
        "response = client.chat.completions.create(\n",
        "    model=\"gpt-4\",\n",
        "    messages=messages,\n",
        "    temperature=0.7\n",
        ")\n",
        "\n",
        "# Mostrar la respuesta contextualizada\n",
        "print(\"Asistente:\\n\", response.choices[0].message.content)"
      ],
      "metadata": {
        "colab": {
          "base_uri": "https://localhost:8080/"
        },
        "id": "rt8lHttMAENy",
        "outputId": "36e3b89a-7dbc-4202-d75c-5c5f03086133"
      },
      "execution_count": 16,
      "outputs": [
        {
          "output_type": "stream",
          "name": "stdout",
          "text": [
            "Asistente:\n",
            " 1. **Disney World en Orlando, Florida:** Este es posiblemente el parque temático más famoso del mundo, ideal para los niños. Hay muchas atracciones, personajes de Disney, y el siempre emocionante Magic Kingdom.\n",
            "\n",
            "2. **Universal Studios en Orlando, Florida:** Otra opción increíble en Orlando. Tiene atracciones basadas en películas populares y también es el hogar de The Wizarding World of Harry Potter.\n",
            "\n",
            "3. **Parque Nacional Yellowstone, EE.UU.:** Si tus hijos aman la naturaleza y los animales, este es el lugar perfecto. Podrán ver geiseres, bisontes, y si tienes suerte, incluso osos.\n",
            "\n",
            "4. **París, Francia:** Además de la Torre Eiffel, puedes visitar Disneyland París. También puedes enseñar a tus hijos algo de historia y cultura visitando el Louvre (donde está la Mona Lisa).\n",
            "\n",
            "5. **Barcelona, España:** Esta ciudad tiene muchas cosas que ofrecer a las familias, incluyendo la playa, el Parque Güell, y la Sagrada Familia. También está PortAventura World, un parque temático increíble que está a sólo una hora de distancia.\n",
            "\n",
            "6. **Roma, Italia:** Otra ciudad llena de historia y cultura. Los niños pueden aprender sobre el antiguo Imperio Romano visitando el Coliseo y el Foro Romano.\n",
            "\n",
            "7. **Tokio, Japón:** Tokio tiene una mezcla de lo antiguo y lo nuevo que puede ser muy emocionante para los niños. Puedes visitar templos antiguos, el Palacio Imperial, y también Tokyo Disneyland y Legoland.\n",
            "\n",
            "8. **Dubai, Emiratos Árabes Unidos:** Aquí encontrarás IMG Worlds of Adventure, que es el parque temático cubierto más grande del mundo. También está el Dubai Mall, que tiene un enorme acuario y un zoológico subacuático.\n",
            "\n",
            "Recuerda que cada destino tiene su propio conjunto de regulaciones y restricciones debido a la pandemia actual de COVID-19, así que asegúrate de investigar y planificar en consecuencia.\n"
          ]
        }
      ]
    }
  ],
  "metadata": {
    "kernelspec": {
      "display_name": "Python 3",
      "language": "python",
      "name": "python3"
    },
    "language_info": {
      "codemirror_mode": {
        "name": "ipython",
        "version": 3
      },
      "file_extension": ".py",
      "mimetype": "text/x-python",
      "name": "python",
      "nbconvert_exporter": "python",
      "pygments_lexer": "ipython3",
      "version": "3.8.10"
    },
    "colab": {
      "provenance": [],
      "include_colab_link": true
    }
  },
  "nbformat": 4,
  "nbformat_minor": 0
}