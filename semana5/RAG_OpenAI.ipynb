{
  "nbformat": 4,
  "nbformat_minor": 0,
  "metadata": {
    "colab": {
      "provenance": [],
      "authorship_tag": "ABX9TyMNAwi6qfB7ftUlnfeZJagh",
      "include_colab_link": true
    },
    "kernelspec": {
      "name": "python3",
      "display_name": "Python 3"
    },
    "language_info": {
      "name": "python"
    }
  },
  "cells": [
    {
      "cell_type": "markdown",
      "metadata": {
        "id": "view-in-github",
        "colab_type": "text"
      },
      "source": [
        "<a href=\"https://colab.research.google.com/github/jumafernandez/generacion_prompts/blob/main/semana5/RAG_OpenAI.ipynb\" target=\"_parent\"><img src=\"https://colab.research.google.com/assets/colab-badge.svg\" alt=\"Open In Colab\"/></a>"
      ]
    },
    {
      "cell_type": "markdown",
      "source": [
        "#**🔵 Semana 5: ¿Qué es RAG y cómo implementarlo?**\n",
        "\n",
        "\n",
        "##**1️⃣ ¿Qué es RAG?**\n",
        "\n",
        "Retrieval-Augmented Generation (RAG) es una técnica que mejora la generación de respuestas en modelos de lenguaje combinando dos pasos:\n",
        "\n",
        "1. **Recuperación de información relevante** desde una base de datos o documentos externos.\n",
        "1. **Generación de respuestas** utilizando un modelo de lenguaje, que integra el contexto recuperado en su respuesta.\n",
        "Esto permite que los modelos trabajen con información más actualizada, sin depender únicamente del conocimiento aprendido en su entrenamiento.\n",
        "\n",
        "📌 En esta notebook vamos a implementarlo a partir de la API de OpenAI y una base de datos vectorial llamada **Chroma**."
      ],
      "metadata": {
        "id": "8OVvu4tZzP0P"
      }
    },
    {
      "cell_type": "markdown",
      "source": [
        "##**2️⃣ Instalación de librerías necesarias**\n",
        "\n",
        "Ejecuta la siguiente celda para instalar las dependencias:"
      ],
      "metadata": {
        "id": "rWQG4yyxz1oK"
      }
    },
    {
      "cell_type": "code",
      "source": [
        "#!pip install openai\n",
        "!pip install chromadb pymupdf --quiet\n",
        "\n",
        "import os\n",
        "import sys\n",
        "\n",
        "# Reiniciar automáticamente el entorno tras la instalación\n",
        "#os.execv(sys.executable, ['python'] + sys.argv)"
      ],
      "metadata": {
        "id": "bFJ44VkozON8"
      },
      "execution_count": 1,
      "outputs": []
    },
    {
      "cell_type": "markdown",
      "source": [
        "##**3️⃣ Configuración del entorno**\n",
        "\n",
        "Antes de comenzar, asegúrate de configurar tu clave de API de OpenAI:"
      ],
      "metadata": {
        "id": "9wln7_mOz-ck"
      }
    },
    {
      "cell_type": "code",
      "source": [
        "import os\n",
        "\n",
        "# Configura tu clave de OpenAI\n",
        "os.environ[\"OPENAI_API_KEY\"] = \"\""
      ],
      "metadata": {
        "id": "TR1uKcDSz8GP"
      },
      "execution_count": 2,
      "outputs": []
    },
    {
      "cell_type": "markdown",
      "source": [
        "##**4️⃣ ¿Qué es ChromaDB y por qué lo usamos en RAG?**\n",
        "\n",
        "ChromaDB es una base de datos vectorial que permite almacenar y recuperar información en función de su similitud semántica.\n",
        "\n",
        "**📌 ¿Por qué usamos ChromaDB en RAG?**\n",
        "- Búsqueda semántica eficiente: Permite recuperar fragmentos de documentos que sean relevantes para una consulta específica.\n",
        "- Optimización en la recuperación de contexto: En lugar de depender solo del texto en el prompt, podemos buscar información adicional en documentos externos.\n",
        "- Escalabilidad: Puede manejar grandes volúmenes de datos sin perder velocidad en la búsqueda.\n",
        "\n",
        "En este caso, utilizaremos ChromaDB para indexar y buscar contenido en PDFs almacenados en un repositorio zipeado alojado en GitHub."
      ],
      "metadata": {
        "id": "fRvSCQ6W0Dq-"
      }
    },
    {
      "cell_type": "markdown",
      "source": [
        "##**5️⃣ Cargando documentos desde un repositorio de GitHub**\n",
        "\n",
        "Extraeremos información desde archivos PDF almacenados en un directorio clonado desde GitHub."
      ],
      "metadata": {
        "id": "wkj6gqOj0UuZ"
      }
    },
    {
      "cell_type": "code",
      "source": [
        "import os\n",
        "import fitz  # PyMuPDF para procesar PDFs\n",
        "import chromadb\n",
        "from urllib import request # Import the request module for downloading files\n",
        "import zipfile # Import the zipfile module for extracting zip files"
      ],
      "metadata": {
        "id": "372vO-AK0Xka"
      },
      "execution_count": 3,
      "outputs": []
    },
    {
      "cell_type": "code",
      "source": [
        "# Inicializar ChromaDB\n",
        "chroma_client = chromadb.PersistentClient(path=\"./chroma_db\")\n",
        "collection = chroma_client.get_or_create_collection(name=\"docs\")"
      ],
      "metadata": {
        "id": "XjUTpy4l0arO"
      },
      "execution_count": 4,
      "outputs": []
    },
    {
      "cell_type": "code",
      "source": [
        "# Función para extraer texto de un PDF\n",
        "def extract_text_from_pdf(pdf_path):\n",
        "    try:\n",
        "        doc = fitz.open(pdf_path)\n",
        "        text = \"\\n\".join([page.get_text() for page in doc])\n",
        "        return text if text.strip() else \"⚠️ Documento sin texto extraído\"\n",
        "    except Exception as e:\n",
        "        print(f\"❌ Error al leer {pdf_path}: {e}\")\n",
        "        return \"\"\n",
        "\n",
        "# Función para descargar un archivo ZIP desde GitHub\n",
        "def download_file(url, local_path):\n",
        "    \"\"\"Descarga un archivo desde una URL a una ruta local.\"\"\"\n",
        "    try:\n",
        "        with request.urlopen(url) as response, open(local_path, 'wb') as out_file:\n",
        "            out_file.write(response.read())\n",
        "        print(f\"📥 Descargado: {url} a {local_path}\")\n",
        "    except Exception as e:\n",
        "        print(f\"❌ Error al descargar el archivo: {e}\")\n",
        "\n",
        "# Función para extraer e indexar todos los PDFs del ZIP\n",
        "def add_documents_from_zip(zip_url):\n",
        "    # Crear un directorio para almacenar los PDFs\n",
        "    local_pdf_dir = \"./pdfs\"\n",
        "    os.makedirs(local_pdf_dir, exist_ok=True)\n",
        "\n",
        "    # Definir la ruta del ZIP local\n",
        "    zip_path = os.path.join(local_pdf_dir, \"base_conocimiento.zip\")\n",
        "\n",
        "    # Descargar el ZIP\n",
        "    download_file(zip_url, zip_path)\n",
        "\n",
        "    # Extraer los PDFs\n",
        "    try:\n",
        "        with zipfile.ZipFile(zip_path, 'r') as zip_ref:\n",
        "            zip_ref.extractall(local_pdf_dir)\n",
        "            extracted_files = zip_ref.namelist()\n",
        "        print(f\"📂 Archivos extraídos: {extracted_files}\")\n",
        "    except Exception as e:\n",
        "        print(f\"❌ Error al extraer el ZIP: {e}\")\n",
        "        return\n",
        "\n",
        "    # Ruta correcta dentro del directorio extraído\n",
        "    extracted_folder = os.path.join(local_pdf_dir, \"base_conocimiento\")\n",
        "\n",
        "    # Procesar todos los PDFs extraídos\n",
        "    indexed_count = 0\n",
        "    if os.path.exists(extracted_folder):\n",
        "        for filename in os.listdir(extracted_folder):\n",
        "            if filename.endswith(\".pdf\"):\n",
        "                pdf_path = os.path.join(extracted_folder, filename)\n",
        "                print(f\"🔍 Procesando: {filename}\")\n",
        "\n",
        "                text = extract_text_from_pdf(pdf_path)\n",
        "                if text and text != \"⚠️ Documento sin texto extraído\":\n",
        "                    collection.add(documents=[text], ids=[filename])\n",
        "                    print(f\"✅ Indexado en ChromaDB: {filename}\")\n",
        "                    indexed_count += 1\n",
        "                else:\n",
        "                    print(f\"⚠️ No se pudo extraer texto de {filename}\")\n",
        "    else:\n",
        "        print(\"❌ No se encontró la carpeta extraída base_conocimiento.\")\n",
        "\n",
        "    if indexed_count == 0:\n",
        "        print(\"❌ No se indexó ningún documento en ChromaDB.\")\n",
        "    else:\n",
        "        print(f\"📂 {indexed_count} documentos fueron indexados exitosamente.\")"
      ],
      "metadata": {
        "id": "bbBVW4qN0cWh"
      },
      "execution_count": 5,
      "outputs": []
    },
    {
      "cell_type": "code",
      "source": [
        "# URL del ZIP en el repositorio de GitHub\n",
        "pdf_zip_url = \"https://github.com/jumafernandez/generacion_prompts/raw/refs/heads/main/semana5/base_conocimiento.zip\"\n",
        "\n",
        "# Agregar documentos a ChromaDB\n",
        "add_documents_from_zip(pdf_zip_url)"
      ],
      "metadata": {
        "id": "n1-wiM1m0fLE",
        "colab": {
          "base_uri": "https://localhost:8080/"
        },
        "outputId": "b2bcee5f-50da-41b6-b4b8-fad9d1d46106"
      },
      "execution_count": 6,
      "outputs": [
        {
          "output_type": "stream",
          "name": "stdout",
          "text": [
            "📥 Descargado: https://github.com/jumafernandez/generacion_prompts/raw/refs/heads/main/semana5/base_conocimiento.zip a ./pdfs/base_conocimiento.zip\n",
            "📂 Archivos extraídos: ['base_conocimiento/', 'base_conocimiento/566eebeb-fa42-4b2a-8143-9d6e22d7670c.pdf', 'base_conocimiento/b3094a32-663d-4c3c-ab99-bc835fa0e8dd.pdf', 'base_conocimiento/DISP_CD-CB_Nº_009_24.pdf', 'base_conocimiento/DISP_CD-CB_Nº_563_23.pdf', 'base_conocimiento/DISP_DD-CB_Nº_008_24.pdf', 'base_conocimiento/DISP_PC-CB_Nº_110_24.pdf', 'base_conocimiento/RES_HCS_Nº_162_24.pdf']\n",
            "🔍 Procesando: DISP_CD-CB_Nº_563_23.pdf\n"
          ]
        },
        {
          "output_type": "stream",
          "name": "stderr",
          "text": [
            "/root/.cache/chroma/onnx_models/all-MiniLM-L6-v2/onnx.tar.gz: 100%|██████████| 79.3M/79.3M [00:06<00:00, 13.3MiB/s]\n"
          ]
        },
        {
          "output_type": "stream",
          "name": "stdout",
          "text": [
            "✅ Indexado en ChromaDB: DISP_CD-CB_Nº_563_23.pdf\n",
            "🔍 Procesando: 566eebeb-fa42-4b2a-8143-9d6e22d7670c.pdf\n",
            "✅ Indexado en ChromaDB: 566eebeb-fa42-4b2a-8143-9d6e22d7670c.pdf\n",
            "🔍 Procesando: RES_HCS_Nº_162_24.pdf\n",
            "✅ Indexado en ChromaDB: RES_HCS_Nº_162_24.pdf\n",
            "🔍 Procesando: DISP_PC-CB_Nº_110_24.pdf\n",
            "✅ Indexado en ChromaDB: DISP_PC-CB_Nº_110_24.pdf\n",
            "🔍 Procesando: b3094a32-663d-4c3c-ab99-bc835fa0e8dd.pdf\n",
            "✅ Indexado en ChromaDB: b3094a32-663d-4c3c-ab99-bc835fa0e8dd.pdf\n",
            "🔍 Procesando: DISP_CD-CB_Nº_009_24.pdf\n",
            "✅ Indexado en ChromaDB: DISP_CD-CB_Nº_009_24.pdf\n",
            "🔍 Procesando: DISP_DD-CB_Nº_008_24.pdf\n",
            "✅ Indexado en ChromaDB: DISP_DD-CB_Nº_008_24.pdf\n",
            "📂 7 documentos fueron indexados exitosamente.\n"
          ]
        }
      ]
    },
    {
      "cell_type": "markdown",
      "source": [
        "##**6️⃣ Recuperar información relevante desde ChromaDB**\n",
        "\n",
        "Para responder preguntas, primero buscamos los fragmentos más relevantes en la base de datos."
      ],
      "metadata": {
        "id": "e0csjPJh0jQr"
      }
    },
    {
      "cell_type": "code",
      "source": [
        "# Función para recuperar contexto desde ChromaDB\n",
        "def retrieve_context(query, n_results=3):\n",
        "    results = collection.query(query_texts=[query], n_results=n_results)\n",
        "    return \"\\n\".join(results['documents'][0]) if results['documents'] else \"\""
      ],
      "metadata": {
        "id": "EBcA5I9Z0lT2"
      },
      "execution_count": 7,
      "outputs": []
    },
    {
      "cell_type": "code",
      "source": [
        "# Ejemplo de búsqueda\n",
        "query = \"¿Quién es Juan Manuel Fernandez?\"\n",
        "context = retrieve_context(query)\n",
        "\n",
        "print(\"🔍 Contexto recuperado:\\n\", context)"
      ],
      "metadata": {
        "id": "IESBxjdY0oBK",
        "colab": {
          "base_uri": "https://localhost:8080/"
        },
        "outputId": "b7acbe97-75a8-4b97-8a62-bc093b5a8998"
      },
      "execution_count": 8,
      "outputs": [
        {
          "output_type": "stream",
          "name": "stdout",
          "text": [
            "🔍 Contexto recuperado:\n",
            "  \n",
            "Universidad Nacional de Luján \n",
            "REPÚBLICA ARGENTINA\n",
            "“2024 – 40 años de la Reapertura de la Universidad Nacional de Luján y 30 años\n",
            "del Reconocimiento Constitucional de la Autonomía Universitaria”\n",
            " \n",
            "1 / 2\n",
            "RESOLUCION RECTOR RR : 359 / 2024\n",
            "ACTND 129/2024\n",
            "LUJÁN, BUENOS AIRES\n",
            " \n",
            "VISTO: La presentación efectuada por el  señor  Juan Manuel FERNÁNDEZ, mediante la\n",
            "cual presenta la renuncia al cargo Nodocente, a partir del 1º de septiembre 2024, y\n",
            "CONSIDERANDO:\n",
            "\n",
            "Que el mencionado trabajador, revista en un cargo de personal Nodocente, Planta\n",
            "Permanente, Director de Gestión Curricular, Categoría 2  -  Tramo Mayor del\n",
            "Agrupamiento Administrativo y posee dependencia funcional en la Dirección General\n",
            "de Asuntos Académicos.\n",
            "Que el trabajador FERNÁNDEZ, se encuentra usufructuando licencia sin goce de\n",
            "haberes por desempeño de cargo de mayor jerarquía desde el 1º de febrero de 2020,\n",
            "en el marco de lo determinado por el Artículo 105 del Convenio Colectivo de Trabajo\n",
            "para el Sector Nodocente de las Instituciones Universitarias Nacionales, Decreto\n",
            "P.E.N.Nº 366/06 y su Reglamentación Particular, homologada por Resolución RESHCS-\n",
            "LUJ: 0000429-09, conforme Disposición DISPSECADM-LUJ: 0000001-20.\n",
            "Que la solicitud de renuncia se encuadra en lo determinado por el Artículo 22,\n",
            "punto a) del Convenio Colectivo de Trabajo para el Sector Nodocente de las\n",
            "Instituciones \n",
            "Universitarias \n",
            "Nacionales, \n",
            "Decreto \n",
            "P.E.N.Nº \n",
            "366/06, \n",
            "y \n",
            "su\n",
            "reglamentación particular, homologada por Resolución RESHCS-LUJ: 0000023-09.\n",
            "Que por lo expuesto, corresponde aceptar la renuncia del  señor Juan Manuel\n",
            "FERNÁNDEZ (D.N.I.Nº 30.939.704 - Legajo Nº 3096) al cargo de personal Nodocente\n",
            "Planta Permanente, Categoría 2  -  Tramo Mayor del Agrupamiento Administrativo,\n",
            "Director de Gestión Curricular del Convenio Colectivo de Trabajo para el Sector\n",
            "Nodocente de las Instituciones Universitarias Nacionales, Decreto P.E.N.Nº 366/06,\n",
            "a partir del 1º de septiembre de 2024 y gestionar la baja en dicho cargo, en\n",
            "cumplimiento de lo establecido por la normativa antes mencionada.\n",
            "Que previo a la aceptación de la renuncia al cargo de Personal Nodocente, resulta\n",
            "necesario limitar, a partir del 1º de septiembre de 2024, la licencia sin goce de\n",
            "haberes por desempeño de cargo de mayor jerarquía en el cargo de personal\n",
            "Nodocente, Planta Permanente, Director de Gestión Curricular, Categoría 2 -  Tramo\n",
            "Mayor del  Agrupamiento Administrativo, autorizada a favor del señor Juan Manuel\n",
            "FERNÁNDEZ (D.N.I.Nº 30.939.704 - Legajo Nº 3096) por Disposición DISPSECADM-LUJ:\n",
            "0000001-20.\n",
            "Que la competencia del órgano para el dictado de la presente se encuentra\n",
            "determinado por el Artículo 58 del Estatuto Universitario.\n",
            "Por ello,\n",
            "\n",
            " \n",
            "Universidad Nacional de Luján \n",
            "REPÚBLICA ARGENTINA\n",
            "“2024 – 40 años de la Reapertura de la Universidad Nacional de Luján y 30 años\n",
            "del Reconocimiento Constitucional de la Autonomía Universitaria”\n",
            " \n",
            "2 / 2\n",
            " \n",
            "EL RECTOR DE LA UNIVERSIDAD NACIONAL DE LUJÁN \n",
            "\n",
            "R E S U E L V E :\n",
            " \n",
            "ARTÍCULO 1º.- Limitar, a partir del 1º de septiembre de 2024, la licencia sin goce\n",
            "de haberes por desempeño de cargo de mayor jerarquía, en el cargo de personal\n",
            "Nodocente, Planta Permanente, Director de Gestión Curricular, Categoría 2 -  Tramo\n",
            "Mayor del  Agrupamiento Administrativo, determinada a favor del señor Juan Manuel\n",
            "FERNÁNDEZ (D.N.I.Nº 30.939.704 - Legajo Nº 3096), por Disposición DISPSECAMD-LUJ:\n",
            "0000001-2020.-\n",
            "ARTÍCULO 2º.- Aceptar la renuncia presentada por el  señor  Juan Manuel FERNÁNDEZ\n",
            "(D.N.I.Nº 30.939.704 – Legajo Nº 3096) al cargo de personal Nodocente, Planta\n",
            "Permanente, Categoría 2 - Tramo Mayor del Agrupamiento Administrativo, del Convenio\n",
            "Colectivo de Trabajo para el Sector Nodocente de las Instituciones Universitarias\n",
            "Nacionales, Decreto P.E.N.Nº 366/06, a partir del 1º de septiembre de 2024,\n",
            "conforme lo determinado por el Artículo 22, punto a) de la mencionada Convención\n",
            "Colectiva y su Reglamentación Particular, homologada por Resolución RESHCS-LUJ:\n",
            "0000023-09.-\n",
            "ARTÍCULO 3º.- Encomendar a la Dirección de Administración de Personal las gestiones\n",
            "pertinentes a fin de incorporar lo determinado en el movimiento de haberes\n",
            "correspondientes y registrar la medida en el Sistema de Administración de Personal\n",
            "SIU-MAPUCHE.-\n",
            "ARTÍCULO 4º.- Regístrese, comuníquese y archívese.-\n",
            " \n",
            "Mgter. Joaquín Gustavo BELGRANO. Secretario General\n",
            "Lic. Walter Fabián PANESSI. Rector\n",
            " \n",
            "\n",
            "Hoja de firmas\n",
            "Sistema: sudocu\n",
            "Fecha: 20/09/2024 11:14:21\n",
            "Cargado por: NORA BEATRIZ RODRIGUEZ\n",
            "Sistema: sudocu\n",
            "Fecha: 20/09/2024 14:29:44\n",
            "Autorizado por: JOAQUIN GUSTAVO BELGRANO\n",
            "Sistema: sudocu\n",
            "Fecha: 23/09/2024 11:05:02\n",
            "Autorizado por: WALTER FABIAN PANESSI\n",
            "\n",
            "“2024 – 40 años de la Reapertura de la Universidad Nacional de Luján y \n",
            "30 años del Reconocimiento Constitucional de la Autonomía Universitaria”\n",
            " \n",
            "Universidad Nacional de Luján\n",
            " REPÚBLICA ARGENTINA\n",
            "EXP-LUJ: 0000156/2024\n",
            "LUJÁN, 12 ABR 2024\n",
            "VISTO:  Las actuaciones que obran en el expediente de\n",
            "referencia, relacionadas con la designación de Coordinadores de\n",
            "Carreras de esta Universidad, y \n",
            "CONSIDERANDO:\n",
            "Que el Rector ha elevado la propuesta correspondiente a\n",
            "la designación de quienes asumirán la conducción de las distintas\n",
            "Carreras de esta Casa.\n",
            "Que  de  acuerdo  a  la  reglamentación  vigente,  la\n",
            "elevación  se  encuentra  acompañada  de  los  Proyectos  de  Gestión\n",
            "Académica y antecedentes académicos de los docentes.\n",
            "Que en el mismo sentido ha tomado vista la Comisión\n",
            "Curricular.\n",
            "Que la misma se dicta en función de las atribuciones\n",
            "conferidas  por  el  Artículo  5º  del  Estatuto  Universitario  y  se\n",
            "adecua al Reglamento de Coordinadores de Carreras y Comisiones de\n",
            "Plan de Estudios.\n",
            "Que  el  Cuerpo  trató  y  aprobó  el  tema  en  su  sesión\n",
            "ordinaria realizada el día 21 de marzo de 2024.\n",
            "Por ello,\n",
            "EL H. CONSEJO SUPERIOR DE LA\n",
            "UNIVERSIDAD NACIONAL DE LUJÁN\n",
            "R E S U E L V E :\n",
            "ARTÍCULO 1º.-\n",
            "Designar  a  los  siguientes  docentes  como\n",
            "Coordinadores de las Carreras que en cada una se indican, desde el\n",
            "día 1º de abril de 2024 y hasta el 31 de marzo de 2026:\n",
            "-Ingeniería en Alimentos\n",
            " Mariana Julia BENITEZ SIGAUT (D.N.I.Nº 20.205.843) \n",
            "-Ingeniería Agronómica\n",
            " Virginia Enriqueta BONVECCHI (D.N.I.Nº 16.316.235) \n",
            "-Licenciatura en Administración\n",
            " María Isabel DEL BUONO (D.N.I.Nº 17.063.499)\n",
            "-Licenciatura en Ciencias de la Educación \n",
            " Paula MEDELA (D.N.I.Nº 21.588.506)\n",
            "///\n",
            "\n",
            "“2024 – 40 años de la Reapertura de la Universidad Nacional de Luján y \n",
            "30 años del Reconocimiento Constitucional de la Autonomía Universitaria”\n",
            " \n",
            "Universidad Nacional de Luján\n",
            " REPÚBLICA ARGENTINA\n",
            "EXP-LUJ: 0000156/2024\n",
            "///\n",
            "- 2 -\n",
            "-Licenciatura en Trabajo Social \n",
            " Andrea Mónica BARCOS (D.N.I.Nº 24.618.989)\n",
            "-Licenciatura en Historia\n",
            " Juan Facundo PICABEA (D.N.I.Nº 25.440.884) \n",
            "-Profesorado en Historia\n",
            " Luciano TORRETTA (D.N.I. Nº 25.512.014)\n",
            "-Licenciatura en Geografía \n",
            " Cecilia María CHIASSO (D.N.I.Nº 13.641.340) \n",
            "-Licenciatura en Educación Física \n",
            " Pablo Dante MARIN (D.N.I.Nº 17.173.900)\n",
            "-Profesorado en Geografía\n",
            " María Lidia SORIA (D.N.I.Nº 14.682.464)\n",
            "-Licenciatura en Sistemas de Información\n",
            " Juan Manuel FERNANDEZ (D.N.I.Nº 30.939.704)\n",
            "-Licenciatura en Ciencias Biológicas\n",
            " Ezequiel Enrique LARRABURU (D.N.I.Nº 27.234.960) \n",
            "-Tecnicatura Universitaria en Inspección de Alimentos\n",
            " Rosa Silvina RIOS (D.N.I.Nº 18.258.986)\n",
            "-Analista Universitario en Ciencias de Datos\n",
            " Rosana Isabel MATUK HERRERA (D.N.I.Nº 21.485.180)\n",
            "-Ingeniería Industrial\n",
            " Eduardo Agustín BENITEZ SIGUAT (D.N.I.Nº 25.299.754) \n",
            "-Licenciatura en Educación Inicial\n",
            " Alba Inés SANTARCÁNGELO (D.N.I.Nº 11.554.511) \n",
            "-Licenciatura en Comercio Internacional\n",
            " Mario Ignacio MOCHETTI (D.N.I.Nº 17.006.831) \n",
            "-Licenciatura en Información Ambiental\n",
            " Adriana ROSENFELD (D.N.I.Nº 6.221.565) \n",
            "///\n",
            "\n",
            "“2024 – 40 años de la Reapertura de la Universidad Nacional de Luján y \n",
            "30 años del Reconocimiento Constitucional de la Autonomía Universitaria”\n",
            " \n",
            "Universidad Nacional de Luján\n",
            " REPÚBLICA ARGENTINA\n",
            "EXP-LUJ: 0000156/2024\n",
            "///\n",
            "- 3 -\n",
            "-Licenciatura en Matemática\n",
            " Dario Hernán DE LA VEGA (D.N.I.Nº 20.384.655)\n",
            "-Profesorado en Enseñanza Media de Adultos\n",
            " Ricardo del Milagro GARBE (D.N.I.Nº 14.798.265)  \n",
            "-Tecnicatura Universitaria en Industrias Lácteas\n",
            " Mariano Diego MARCHINI (D.N.I.Nº 20.987.908) \n",
            "-Profesorado en Educación Física\n",
            " Silvia Mabel MARANZANO (D.N.I.Nº 20.340.311) \n",
            "-Profesorado en Ciencias Biológicas\n",
            " Gladys Elizabeth YORMANN (D.N.I.Nº 13.620.616)\n",
            "-Licenciatura en Enfermería \n",
            " Marta FERNANDEZ (D.N.I.Nº 26.047.862)\n",
            "-Contador Público\n",
            " Susana Beatriz GONZALEZ CABRERIZO (D.N.I.Nº 13.187.857)\n",
            "-Profesorado en Ciencias de la Educación  \n",
            " Claudia Vanesa AGÜERO (D.N.I.Nº 26.597.197)\n",
            "-Profesorado en Física\n",
            " Federico Pablo TADDEI (D.N.I.Nº 14.728.349)\n",
            "-Profesorado Universitario en Química\n",
            " Marcelo Alberto RAMOS (D.N.I.Nº 14.882.192).-\n",
            "ARTÍCULO 2º.-\n",
            "Establecer que la designación del Coordinador de\n",
            "la Carrera de Profesorado en Historia se realiza por excepción a\n",
            "lo establecido en la reglamentación respectiva, en cuanto a la\n",
            "categoría docente, Artículo 2º del Anexo de la Resolución C.S.Nº\n",
            "542/02.-\n",
            "ARTÍCULO 3º.-\n",
            "Determinar que la coordinación de la Carrera de\n",
            "Licenciatura  en  Gestión  Universitaria  será  asumida  por  la\n",
            "///\n",
            "\n",
            "“2024 – 40 años de la Reapertura de la Universidad Nacional de Luján y \n",
            "30 años del Reconocimiento Constitucional de la Autonomía Universitaria”\n",
            " \n",
            "Universidad Nacional de Luján\n",
            " REPÚBLICA ARGENTINA\n",
            "EXP-LUJ: 0000156/2024\n",
            "///\n",
            "- 4 -\n",
            "Secretaría  Académica,  hasta  la  designación  del  docente\n",
            "correspondiente.- \n",
            "ARTÍCULO 4º.-\n",
            "Regístrese, comuníquese y archívese.-\n",
            "RESOLUCIÓN RESHCS-LUJ:0000162-24\n",
            "Prof. Bioq. Jorge Domingo MUFATO\n",
            "Secretario Académico\n",
            "Lic. Walter Fabián PANESSI\n",
            "Presidente\n",
            "H. Consejo Superior\n",
            "El texto de los documentos publicados en el sitio Web de la Universidad Nacional de Luján\n",
            "no tendrá validez para su presentación en terceras instituciones y/o entidades, salvo que\n",
            "contaren con autenticación expedida por la Dir. de Gestión de Doc. y Actos Adm.\n",
            "\n",
            " \n",
            "    Universidad Nacional de Luján\n",
            " Departamento de\n",
            " Ciencias Básicas\n",
            "                 \n",
            "LUJÁN, 11 DE MARZO DE 2024\n",
            "VISTO:  La  nota  presentada  por  el  docente  Juan  Manuel\n",
            "FERNÁNDEZ, por la  que solicita que el Proyecto de Investigación\n",
            "“Generación de herramientas de extracción de información ambiental\n",
            "mediante  técnicas  de aprendizaje  automático, a partir de bases de\n",
            "datos  textuales.  Su   aplicación  al  caso  del  Municipio  de   Luján\n",
            "(provincia de Buenos Aires).”, sea incorporado al  Departamento de\n",
            "Ciencias Básicas; y \n",
            "CONSIDERANDO:\n",
            "          Que el Proyecto de Investigación mencionado en  el VISTO,\n",
            "fue  aprobado,  en  el  marco  de  la  convocatoria  de  Proyectos  de\n",
            "Investigación  Multidisciplinarios  e  Interdepartamentales   de  la\n",
            "Universidad Nacional de Luján (PIMeI) 2023, RESREC-LUJ:0000388-23.\n",
            "          Que se acompaña la documentación probatoria requerida por\n",
            "la Secretaría de Ciencia y Técnica.\n",
            "          Que existe  opinión favorable de miembros de la  Comisión\n",
            "Asesora Permanente de Ciencia y Tecnología.\n",
            "         \n",
            "Que  el  Cuerpo  trató  y  aprobó  el  tema  en  su  sesión\n",
            "ordinaria del día 7 de marzo de 2024.  \n",
            "Por ello,\n",
            "EL CONSEJO DIRECTIVO DEPARTAMENTAL\n",
            "DE CIENCIAS BÁSICAS\n",
            "D I S P O N E :\n",
            "ARTÍCULO 1°.- APROBAR la incorporación del Proyecto de Investigación\n",
            "“Generación   de  herramientas   de   extracción  de  información\n",
            "ambiental mediante  técnicas  de aprendizaje  automático, a partir\n",
            "de  bases  de  datos   textuales.  Su   aplicación   al   caso   del\n",
            "Municipio de  Luján (provincia de Buenos Aires).”, al Departamento\n",
            "de  Ciencias Básicas, con la  vigencia y los integrantes que se\n",
            "detalla: \n",
            "Vigencia:  01/12/2023 hasta 31/12/2025\n",
            "Director:   Juan Manuel FERNÁNDEZ\n",
            "Codirector: Daniel Ernesto LANSON\n",
            "El texto de los documentos publicados en el sitio Web de la Universidad Nacional de Luján no\n",
            "tendrá validez para su presentación en terceras instituciones y/o entidades, salvo que\n",
            "contaren con autenticación expedida por la Dir. de Gestión de Doc. y Actos Adm.\n",
            "\n",
            " \n",
            "     Universidad Nacional de Luján\n",
            " Departamento de\n",
            " Ciencias Básicas\n",
            "                 \n",
            "Integrantes: Marcelo Luis ERRECALDE\n",
            "             Adriana Norma MARTÍNEZ\n",
            "             Marcelo MOJICA\n",
            "             Alicia Noemí IGLESIAS\n",
            "             Rosana Isabel MATUK HERRERA\n",
            "             Leticia Cecilia CAGNINA\n",
            "             Costanza CAMPAGNON\n",
            "ARTICULO 2º.- Regístrese, comuníquese, cumplido, archívese.\n",
            "DISPOSICIÓN DISPCD-CBLUJ:0000009-24\n",
            "   Dr. Ezequiel E. LARRABURU \n",
            "Secretario de Ciencia y Técnica\n",
            "Departamento de Ciencias Básicas\n",
            "Dr. Carlos Javier DI SALVO\n",
            "Vicedirector Decano \n",
            "Departamento de Ciencias Básicas\n",
            "El texto de los documentos publicados en el sitio Web de la Universidad Nacional de Luján no\n",
            "tendrá validez para su presentación en terceras instituciones y/o entidades, salvo que\n",
            "contaren con autenticación expedida por la Dir. de Gestión de Doc. y Actos Adm.\n",
            "\n"
          ]
        }
      ]
    },
    {
      "cell_type": "markdown",
      "source": [
        "##**7️⃣ Generación de respuestas con OpenAI**\n",
        "\n",
        "Ahora usamos el contexto recuperado para generar respuestas mejoradas con OpenAI."
      ],
      "metadata": {
        "id": "1Bv0iWgM0p9b"
      }
    },
    {
      "cell_type": "code",
      "source": [
        "from openai import OpenAI\n",
        "\n",
        "# Inicializar cliente de OpenAI\n",
        "client = OpenAI()"
      ],
      "metadata": {
        "id": "rYqZ6Y9a03A8"
      },
      "execution_count": 9,
      "outputs": []
    },
    {
      "cell_type": "code",
      "source": [
        "# Función para generar respuestas usando RAG con el formato correcto de chat\n",
        "def generate_response(query):\n",
        "    context = retrieve_context(query)\n",
        "\n",
        "    messages = [\n",
        "        {\"role\": \"system\", \"content\": \"Eres un asistente experto en responder preguntas basadas en el contexto recuperado.\"},\n",
        "        {\"role\": \"user\", \"content\": f\"Contexto: {context}\\n\\nPregunta: {query}\\nRespuesta:\"}\n",
        "    ]\n",
        "\n",
        "    response = client.chat.completions.create(\n",
        "        model=\"gpt-4-turbo\",\n",
        "        messages=messages\n",
        "    )\n",
        "\n",
        "    return response.choices[0].message.content.strip()"
      ],
      "metadata": {
        "id": "75e1egfW0uYS"
      },
      "execution_count": 10,
      "outputs": []
    },
    {
      "cell_type": "code",
      "source": [
        "# Realizar una consulta\n",
        "question = \"¿Quién es Juan Manuel Fernández?\""
      ],
      "metadata": {
        "id": "jevgO70E-g7f"
      },
      "execution_count": 11,
      "outputs": []
    },
    {
      "cell_type": "code",
      "source": [
        "response = generate_response(question)\n",
        "\n",
        "print(\"💡 Respuesta con RAG:\\n\", response)"
      ],
      "metadata": {
        "id": "YhzldQbJ05SJ",
        "colab": {
          "base_uri": "https://localhost:8080/"
        },
        "outputId": "73786ec6-3e0a-4110-f29b-dbff981ef72b"
      },
      "execution_count": 12,
      "outputs": [
        {
          "output_type": "stream",
          "name": "stdout",
          "text": [
            "💡 Respuesta con RAG:\n",
            " Juan Manuel Fernández es una persona con diversas responsabilidades y roles dentro de la Universidad Nacional de Luján, según la información proporcionada en los documentos aportados. En primer lugar, Juan Manuel Fernández presentó su renuncia al cargo de personal Nodocente, en la planta permanente, específicamente como Director de Gestión Curricular, efectiva a partir del 1° de septiembre de 2024. Fernández también tenía un cargo de mayor jerarquía desde el 1° de febrero de 2020, del cual usufructuaba una licencia sin goce de haberes.\n",
            "\n",
            "Aparte de su rol nodocente, Juan Manuel Fernández ha sido nombrado como Coordinador de la Licenciatura en Sistemas de Información, desde el 1 de abril de 2024 hasta el 31 de marzo de 2026. Adicionalmente, él lidera un Proyecto de Investigación titulado \"Generación de herramientas de extracción de información ambiental mediante técnicas de aprendizaje automático, a partir de bases de datos textuales\", enfocado en el área de Luján, provincia de Buenos Aires, con vigencia desde el 1 de diciembre de 2023 hasta el 31 de diciembre de 2025.\n",
            "\n",
            "Por lo tanto, Juan Manuel Fernández ha desempeñado funciones importantes tanto en gestión administrativa como en coordinación académica e investigación dentro de la Universidad Nacional de Luján.\n"
          ]
        }
      ]
    },
    {
      "cell_type": "markdown",
      "source": [
        "##**8️⃣ Comparando respuestas con y sin RAG**\n",
        "\n",
        "Probemos la diferencia entre respuestas con y sin acceso a la base de datos."
      ],
      "metadata": {
        "id": "m6zDnocr07ro"
      }
    },
    {
      "cell_type": "code",
      "source": [
        "# Función para generar respuestas SIN RAG (solo el modelo de OpenAI)\n",
        "def generate_response_no_rag(query):\n",
        "    messages = [\n",
        "        {\"role\": \"system\", \"content\": \"Eres un asistente que responde preguntas de forma precisa.\"},\n",
        "        {\"role\": \"user\", \"content\": query}\n",
        "    ]\n",
        "\n",
        "    response = client.chat.completions.create(\n",
        "        model=\"gpt-4-turbo\",\n",
        "        messages=messages\n",
        "    )\n",
        "\n",
        "    return response.choices[0].message.content.strip()"
      ],
      "metadata": {
        "id": "B3GyfJWs090B"
      },
      "execution_count": 15,
      "outputs": []
    },
    {
      "cell_type": "code",
      "source": [
        "response_no_rag = generate_response_no_rag(question)\n",
        "\n",
        "print(\"🔵 Respuesta SIN RAG:\\n\", response_no_rag)"
      ],
      "metadata": {
        "id": "ccOCO1wY1AiC",
        "colab": {
          "base_uri": "https://localhost:8080/"
        },
        "outputId": "9972d104-e5d8-4c73-9e14-eb348a74f9df"
      },
      "execution_count": 16,
      "outputs": [
        {
          "output_type": "stream",
          "name": "stdout",
          "text": [
            "🔵 Respuesta SIN RAG:\n",
            " Necesitaría más información o contexto para poder proporcionar detalles específicos sobre Juan Manuel Fernández, ya que este nombre es bastante común y podría referirse a varias personas en diferentes campos como política, deportes, arte, entre otros. Si puedes proporcionar detalles adicionales o especificar el ámbito en el que Juan Manuel Fernández es conocido, estaré encantado de ayudarte con una respuesta más precisa.\n"
          ]
        }
      ]
    }
  ]
}