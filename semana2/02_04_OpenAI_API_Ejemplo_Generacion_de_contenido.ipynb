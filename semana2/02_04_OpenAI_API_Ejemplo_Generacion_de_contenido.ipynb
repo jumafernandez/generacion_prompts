{
  "cells": [
    {
      "cell_type": "markdown",
      "metadata": {
        "id": "view-in-github",
        "colab_type": "text"
      },
      "source": [
        "<a href=\"https://colab.research.google.com/github/jumafernandez/generacion_prompts/blob/main/semana2/02_04_OpenAI_API_Ejemplo_Generacion_de_contenido.ipynb\" target=\"_parent\"><img src=\"https://colab.research.google.com/assets/colab-badge.svg\" alt=\"Open In Colab\"/></a>"
      ]
    },
    {
      "cell_type": "markdown",
      "id": "d2ced989",
      "metadata": {
        "id": "d2ced989"
      },
      "source": [
        "### Ejemplo 3: Generacion de contenido\n"
      ]
    },
    {
      "cell_type": "markdown",
      "id": "df23823e",
      "metadata": {
        "id": "df23823e"
      },
      "source": [
        "**Paso 1: Preparación**\n",
        "\n",
        "Asegúrate de tener instalada la biblioteca `openai` para Python."
      ]
    },
    {
      "cell_type": "markdown",
      "id": "3f9cd7e8",
      "metadata": {
        "id": "3f9cd7e8"
      },
      "source": [
        "**Paso 2: Configuración de la API**\n",
        "\n",
        "Configura tu API de OpenAI con tu clave secreta de API:"
      ]
    },
    {
      "cell_type": "code",
      "execution_count": null,
      "id": "a7bddaa9",
      "metadata": {
        "id": "a7bddaa9"
      },
      "outputs": [],
      "source": [
        "import openai\n",
        "import os"
      ]
    },
    {
      "cell_type": "code",
      "source": [
        "os.environ[\"OPENAI_API_KEY\"] = \"\""
      ],
      "metadata": {
        "id": "G6GG7OwNW7ks"
      },
      "id": "G6GG7OwNW7ks",
      "execution_count": null,
      "outputs": []
    },
    {
      "cell_type": "code",
      "source": [
        "# Create an OpenAI client instance\n",
        "client = openai.OpenAI()"
      ],
      "metadata": {
        "id": "O3MSFuPjW7nj"
      },
      "id": "O3MSFuPjW7nj",
      "execution_count": null,
      "outputs": []
    },
    {
      "cell_type": "markdown",
      "id": "432e5272",
      "metadata": {
        "id": "432e5272"
      },
      "source": [
        "**Paso 3: Creando la Solicitud**\n",
        "\n",
        "Crea una solicitud a la API de OpenAI para generar contenido:"
      ]
    },
    {
      "cell_type": "code",
      "execution_count": null,
      "id": "119f53fd",
      "metadata": {
        "colab": {
          "base_uri": "https://localhost:8080/"
        },
        "id": "119f53fd",
        "outputId": "1deafcf8-ae38-4f40-fdaf-24fcb7f07434"
      },
      "outputs": [
        {
          "output_type": "stream",
          "name": "stdout",
          "text": [
            "assistant: \"Amaneció en Montemar, donde un hombre se encontraba listo para su desafío del día: Recorrer en bicicleta una empinada montaña que besaba la orilla del mar. Luchando contra lo incierto de la pendiente y la brisa salada, logró conquistar la cumbre justo al ocaso, teniendo como recompensa una vista marítima inigualable. Un recuerdo que guardaría siempre y un horizonte desafiante que confirmaba, el viaje apenas comenzaba. #Aventura #Bicicleta #MontañaMar\"\n"
          ]
        }
      ],
      "source": [
        "response = client.chat.completions.create(\n",
        "    model='gpt-4',\n",
        "    max_tokens=1000,\n",
        "    messages=[\n",
        "        {\"role\": \"system\", \"content\": \"Eres un asistente que realiza generacion de contenido para para redes sociales. Dados ciertos tags debes generar  una publicacion armando una historia breve. La historia no debe tener menos de 50 palabras\"},\n",
        "        {\"role\": \"user\", \"content\": \"hombre, bicicleta, montaña, mar\"},\n",
        "    ])\n",
        "\n",
        "message = response.choices[0].message\n",
        "print(\"{}: {}\".format(message.role, message.content))"
      ]
    }
  ],
  "metadata": {
    "kernelspec": {
      "display_name": "Python 3 (ipykernel)",
      "language": "python",
      "name": "python3"
    },
    "language_info": {
      "codemirror_mode": {
        "name": "ipython",
        "version": 3
      },
      "file_extension": ".py",
      "mimetype": "text/x-python",
      "name": "python",
      "nbconvert_exporter": "python",
      "pygments_lexer": "ipython3",
      "version": "3.10.12"
    },
    "colab": {
      "provenance": [],
      "include_colab_link": true
    }
  },
  "nbformat": 4,
  "nbformat_minor": 5
}