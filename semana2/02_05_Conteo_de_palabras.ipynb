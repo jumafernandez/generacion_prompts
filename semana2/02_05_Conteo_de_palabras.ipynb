{
  "cells": [
    {
      "cell_type": "markdown",
      "metadata": {
        "id": "view-in-github",
        "colab_type": "text"
      },
      "source": [
        "<a href=\"https://colab.research.google.com/github/jumafernandez/generacion_prompts/blob/main/semana2/02_05_Conteo_de_palabras.ipynb\" target=\"_parent\"><img src=\"https://colab.research.google.com/assets/colab-badge.svg\" alt=\"Open In Colab\"/></a>"
      ]
    },
    {
      "cell_type": "markdown",
      "id": "d2ced989",
      "metadata": {
        "id": "d2ced989"
      },
      "source": [
        "### Actividad de clase: Conteo de palabras\n",
        "\n",
        "**Dar una instrucción al modelo:** veremos a continuación cómo se puede realizar un conteo de letras en una frase."
      ]
    },
    {
      "cell_type": "markdown",
      "id": "df23823e",
      "metadata": {
        "id": "df23823e"
      },
      "source": [
        "**Paso 1: Preparación**\n",
        "\n",
        "Asegúrate de tener instalada la biblioteca `openai` para Python."
      ]
    },
    {
      "cell_type": "code",
      "source": [
        "#!pip install openai"
      ],
      "metadata": {
        "id": "HRdqEmkc3smd"
      },
      "id": "HRdqEmkc3smd",
      "execution_count": null,
      "outputs": []
    },
    {
      "cell_type": "markdown",
      "id": "3f9cd7e8",
      "metadata": {
        "id": "3f9cd7e8"
      },
      "source": [
        "**Paso 2: Configuración de la API**\n",
        "\n",
        "Configura tu API de OpenAI con tu clave secreta de API:"
      ]
    },
    {
      "cell_type": "code",
      "execution_count": 1,
      "id": "a7bddaa9",
      "metadata": {
        "id": "a7bddaa9"
      },
      "outputs": [],
      "source": [
        "import openai\n",
        "import os"
      ]
    },
    {
      "cell_type": "code",
      "source": [
        "os.environ[\"OPENAI_API_KEY\"] = \"\""
      ],
      "metadata": {
        "id": "mN4hpMUYR_fn"
      },
      "id": "mN4hpMUYR_fn",
      "execution_count": 3,
      "outputs": []
    },
    {
      "cell_type": "code",
      "source": [
        "# Creamos una instancia de cliente OpenAI\n",
        "client = openai.OpenAI()"
      ],
      "metadata": {
        "id": "GW0O6hoMR0U4"
      },
      "id": "GW0O6hoMR0U4",
      "execution_count": 4,
      "outputs": []
    },
    {
      "cell_type": "markdown",
      "id": "432e5272",
      "metadata": {
        "id": "432e5272"
      },
      "source": [
        "**Paso 3: Creando la Solicitud**\n",
        "\n",
        "Crea una solicitud a la API de OpenAI para contar las palabras de un texto."
      ]
    },
    {
      "cell_type": "code",
      "source": [
        "texto = \"Como se esperaba, la aparición de DeepSeek ha generado un lunes negro para las empresas tecnológicas de Wall Street: el índice Nasdaq cayó más del 3%, mientras que Nvidia, principal fabricante de chips de IA, cayó más del 17%. La semana pasada, Donald Trump presentó Stargate, un proyecto conjunto entre SoftBank, OpenAI, y Oracle para realizar una inversión conjunta de US$ 500.000 millones que convertiría a Estados Unidos en el líder indiscutible en la materia. Sin embargo, apenas un par de días después, la startup china DeepSeek presentó su modelo de IA que, según la propia empresa, puede competir con los modelos líderes de la industria en Estados Unidos pese a que su desarrollo es mucho menos costoso.\""
      ],
      "metadata": {
        "id": "TLz_R7d80Uwl"
      },
      "id": "TLz_R7d80Uwl",
      "execution_count": 5,
      "outputs": []
    },
    {
      "cell_type": "code",
      "source": [
        "texto"
      ],
      "metadata": {
        "colab": {
          "base_uri": "https://localhost:8080/",
          "height": 88
        },
        "id": "DSKnZOJl46xs",
        "outputId": "9b5de881-136c-4fec-edf1-4fa14c29292e"
      },
      "id": "DSKnZOJl46xs",
      "execution_count": 6,
      "outputs": [
        {
          "output_type": "execute_result",
          "data": {
            "text/plain": [
              "'Como se esperaba, la aparición de DeepSeek ha generado un lunes negro para las empresas tecnológicas de Wall Street: el índice Nasdaq cayó más del 3%, mientras que Nvidia, principal fabricante de chips de IA, cayó más del 17%. La semana pasada, Donald Trump presentó Stargate, un proyecto conjunto entre SoftBank, OpenAI, y Oracle para realizar una inversión conjunta de US$ 500.000 millones que convertiría a Estados Unidos en el líder indiscutible en la materia. Sin embargo, apenas un par de días después, la startup china DeepSeek presentó su modelo de IA que, según la propia empresa, puede competir con los modelos líderes de la industria en Estados Unidos pese a que su desarrollo es mucho menos costoso.'"
            ],
            "application/vnd.google.colaboratory.intrinsic+json": {
              "type": "string"
            }
          },
          "metadata": {},
          "execution_count": 6
        }
      ]
    },
    {
      "cell_type": "code",
      "source": [
        "texto.split()"
      ],
      "metadata": {
        "colab": {
          "base_uri": "https://localhost:8080/"
        },
        "id": "gna_L_Nt59h6",
        "outputId": "3cb5f025-64d8-4cc5-96fb-c69642cbb232"
      },
      "id": "gna_L_Nt59h6",
      "execution_count": 10,
      "outputs": [
        {
          "output_type": "execute_result",
          "data": {
            "text/plain": [
              "['Como',\n",
              " 'se',\n",
              " 'esperaba,',\n",
              " 'la',\n",
              " 'aparición',\n",
              " 'de',\n",
              " 'DeepSeek',\n",
              " 'ha',\n",
              " 'generado',\n",
              " 'un',\n",
              " 'lunes',\n",
              " 'negro',\n",
              " 'para',\n",
              " 'las',\n",
              " 'empresas',\n",
              " 'tecnológicas',\n",
              " 'de',\n",
              " 'Wall',\n",
              " 'Street:',\n",
              " 'el',\n",
              " 'índice',\n",
              " 'Nasdaq',\n",
              " 'cayó',\n",
              " 'más',\n",
              " 'del',\n",
              " '3%,',\n",
              " 'mientras',\n",
              " 'que',\n",
              " 'Nvidia,',\n",
              " 'principal',\n",
              " 'fabricante',\n",
              " 'de',\n",
              " 'chips',\n",
              " 'de',\n",
              " 'IA,',\n",
              " 'cayó',\n",
              " 'más',\n",
              " 'del',\n",
              " '17%.',\n",
              " 'La',\n",
              " 'semana',\n",
              " 'pasada,',\n",
              " 'Donald',\n",
              " 'Trump',\n",
              " 'presentó',\n",
              " 'Stargate,',\n",
              " 'un',\n",
              " 'proyecto',\n",
              " 'conjunto',\n",
              " 'entre',\n",
              " 'SoftBank,',\n",
              " 'OpenAI,',\n",
              " 'y',\n",
              " 'Oracle',\n",
              " 'para',\n",
              " 'realizar',\n",
              " 'una',\n",
              " 'inversión',\n",
              " 'conjunta',\n",
              " 'de',\n",
              " 'US$',\n",
              " '500.000',\n",
              " 'millones',\n",
              " 'que',\n",
              " 'convertiría',\n",
              " 'a',\n",
              " 'Estados',\n",
              " 'Unidos',\n",
              " 'en',\n",
              " 'el',\n",
              " 'líder',\n",
              " 'indiscutible',\n",
              " 'en',\n",
              " 'la',\n",
              " 'materia.',\n",
              " 'Sin',\n",
              " 'embargo,',\n",
              " 'apenas',\n",
              " 'un',\n",
              " 'par',\n",
              " 'de',\n",
              " 'días',\n",
              " 'después,',\n",
              " 'la',\n",
              " 'startup',\n",
              " 'china',\n",
              " 'DeepSeek',\n",
              " 'presentó',\n",
              " 'su',\n",
              " 'modelo',\n",
              " 'de',\n",
              " 'IA',\n",
              " 'que,',\n",
              " 'según',\n",
              " 'la',\n",
              " 'propia',\n",
              " 'empresa,',\n",
              " 'puede',\n",
              " 'competir',\n",
              " 'con',\n",
              " 'los',\n",
              " 'modelos',\n",
              " 'líderes',\n",
              " 'de',\n",
              " 'la',\n",
              " 'industria',\n",
              " 'en',\n",
              " 'Estados',\n",
              " 'Unidos',\n",
              " 'pese',\n",
              " 'a',\n",
              " 'que',\n",
              " 'su',\n",
              " 'desarrollo',\n",
              " 'es',\n",
              " 'mucho',\n",
              " 'menos',\n",
              " 'costoso.']"
            ]
          },
          "metadata": {},
          "execution_count": 10
        }
      ]
    },
    {
      "cell_type": "code",
      "source": [
        "# prompt: Quiero contar la cantidad de palabras de la variable txt_content\n",
        "\n",
        "# Count the words\n",
        "word_count = len(texto.split())\n",
        "print(f\"\\nLa cantidad de palabras en el texto es: {word_count}\")"
      ],
      "metadata": {
        "colab": {
          "base_uri": "https://localhost:8080/"
        },
        "id": "afDZAzZh5A9H",
        "outputId": "0fe69fcf-1a68-40da-ae76-9a4a92afa8d3"
      },
      "id": "afDZAzZh5A9H",
      "execution_count": 7,
      "outputs": [
        {
          "output_type": "stream",
          "name": "stdout",
          "text": [
            "\n",
            "La cantidad de palabras en el texto es: 118\n"
          ]
        }
      ]
    },
    {
      "cell_type": "code",
      "execution_count": 11,
      "id": "119f53fd",
      "metadata": {
        "id": "119f53fd"
      },
      "outputs": [],
      "source": [
        "response = client.chat.completions.create(\n",
        "    model='gpt-4',\n",
        "    max_tokens=50,\n",
        "    messages=[\n",
        "        {\"role\": \"system\", \"content\": \"Eres un asistente que, dado un texto, es capaz de contar las palabras que posee ese texto.\"},\n",
        "        {\"role\": \"user\", \"content\": texto},\n",
        "    ])"
      ]
    },
    {
      "cell_type": "code",
      "source": [
        "message = response.choices[0].message\n",
        "\n",
        "# Access properties using dot notation instead of indexing\n",
        "print(\"{}: {}\".format(message.role, message.content))"
      ],
      "metadata": {
        "colab": {
          "base_uri": "https://localhost:8080/"
        },
        "id": "JFiR1ZTqaJHj",
        "outputId": "80feeef6-a9f6-4d75-cff2-76ed682e9e46"
      },
      "id": "JFiR1ZTqaJHj",
      "execution_count": 12,
      "outputs": [
        {
          "output_type": "stream",
          "name": "stdout",
          "text": [
            "assistant: El texto proporcionado contiene 107 palabras.\n"
          ]
        }
      ]
    },
    {
      "cell_type": "markdown",
      "id": "429c9d10",
      "metadata": {
        "id": "429c9d10"
      },
      "source": [
        "**Paso 5: Ejecución**\n",
        "\n",
        "Al ejecutar este script, deberías obtener la cantidad de palabras del texto."
      ]
    }
  ],
  "metadata": {
    "kernelspec": {
      "display_name": "Python 3 (ipykernel)",
      "language": "python",
      "name": "python3"
    },
    "language_info": {
      "codemirror_mode": {
        "name": "ipython",
        "version": 3
      },
      "file_extension": ".py",
      "mimetype": "text/x-python",
      "name": "python",
      "nbconvert_exporter": "python",
      "pygments_lexer": "ipython3",
      "version": "3.10.12"
    },
    "colab": {
      "provenance": [],
      "include_colab_link": true
    }
  },
  "nbformat": 4,
  "nbformat_minor": 5
}