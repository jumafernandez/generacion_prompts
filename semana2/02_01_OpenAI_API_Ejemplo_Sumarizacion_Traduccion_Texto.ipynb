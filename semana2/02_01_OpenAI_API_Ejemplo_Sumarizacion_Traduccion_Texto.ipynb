{
  "cells": [
    {
      "cell_type": "markdown",
      "metadata": {
        "id": "view-in-github",
        "colab_type": "text"
      },
      "source": [
        "<a href=\"https://colab.research.google.com/github/jumafernandez/generacion_prompts/blob/main/semana2/02_01_OpenAI_API_Ejemplo_Sumarizacion_Traduccion_Texto.ipynb\" target=\"_parent\"><img src=\"https://colab.research.google.com/assets/colab-badge.svg\" alt=\"Open In Colab\"/></a>"
      ]
    },
    {
      "cell_type": "markdown",
      "id": "d2ced989",
      "metadata": {
        "id": "d2ced989"
      },
      "source": [
        "### Ejemplo 2: Sumarización de un Texto"
      ]
    },
    {
      "cell_type": "markdown",
      "id": "df23823e",
      "metadata": {
        "id": "df23823e"
      },
      "source": [
        "**Paso 1: Preparación**\n",
        "\n",
        "Asegúrate de tener instalada la biblioteca `openai` para Python."
      ]
    },
    {
      "cell_type": "markdown",
      "id": "3f9cd7e8",
      "metadata": {
        "id": "3f9cd7e8"
      },
      "source": [
        "**Paso 2: Configuración de la API**\n",
        "\n",
        "Configura tu API de OpenAI con tu clave secreta de API:"
      ]
    },
    {
      "cell_type": "code",
      "source": [
        "import openai\n",
        "import os"
      ],
      "metadata": {
        "id": "oL9SwjItUqq6"
      },
      "id": "oL9SwjItUqq6",
      "execution_count": null,
      "outputs": []
    },
    {
      "cell_type": "code",
      "execution_count": null,
      "id": "a7bddaa9",
      "metadata": {
        "id": "a7bddaa9"
      },
      "outputs": [],
      "source": [
        "os.environ[\"OPENAI_API_KEY\"] = \"\""
      ]
    },
    {
      "cell_type": "code",
      "source": [
        "# Create an OpenAI client instance\n",
        "client = openai.OpenAI()"
      ],
      "metadata": {
        "id": "HL3P0k-hUsqq"
      },
      "id": "HL3P0k-hUsqq",
      "execution_count": null,
      "outputs": []
    },
    {
      "cell_type": "markdown",
      "id": "432e5272",
      "metadata": {
        "id": "432e5272"
      },
      "source": [
        "**Paso 3: Creando la Solicitud**\n",
        "\n",
        "Crea una solicitud a la API de OpenAI para sumarizar el siguiente texto:"
      ]
    },
    {
      "cell_type": "markdown",
      "id": "2e8903db",
      "metadata": {
        "id": "2e8903db"
      },
      "source": [
        "> \"OpenAI es una empresa de inteligencia artificial que busca desarrollar IA amigable y segura para beneficio de toda la humanidad. Entre sus desarrollos más destacados se encuentra GPT-3, un modelo de lenguaje de tercera generación que es capaz de escribir textos con un nivel de coherencia y creatividad sorprendentes.\""
      ]
    },
    {
      "cell_type": "code",
      "execution_count": null,
      "id": "119f53fd",
      "metadata": {
        "colab": {
          "base_uri": "https://localhost:8080/"
        },
        "id": "119f53fd",
        "outputId": "436ab938-b97f-45e7-b54f-8443bb5c0300"
      },
      "outputs": [
        {
          "output_type": "stream",
          "name": "stdout",
          "text": [
            "assistant: La música, como forma de expresión cultural, varía en estilos e instrumentos por cultura, diferenciándolas entre sí. La armonía en los géneros musicales define a menudo una cultura.\n",
            "\n"
          ]
        }
      ],
      "source": [
        "response = client.chat.completions.create(\n",
        "    model='gpt-4',\n",
        "    max_tokens=50,\n",
        "    messages=[\n",
        "        {\"role\": \"system\", \"content\": \"Eres un asistente que realiza resumenes de texto, tu nombre es coder-AI-resume. Debes resumir cualquier frase que te den en no mas de 30 palabras\"},\n",
        "        {\"role\": \"user\", \"content\": \"La musica es una forma de expresion en numerozas culturas. Cada cultura disponde de diferentes estilo e instrumentos que interpretan la musica y distinguen una cultura de otra. La armonia en los diferentes generos musicales es una caracteristica que suele definir una cultura\"},\n",
        "    ])\n",
        "\n",
        "message1 = response.choices[0].message\n",
        "# Access properties using dot notation instead of indexing\n",
        "print(\"{}: {}\".format(message1.role, message1.content))"
      ]
    },
    {
      "cell_type": "code",
      "source": [
        "respuesta_chatgpt = message1.content"
      ],
      "metadata": {
        "id": "a4bL-E6jVMA_"
      },
      "id": "a4bL-E6jVMA_",
      "execution_count": null,
      "outputs": []
    },
    {
      "cell_type": "markdown",
      "id": "429c9d10",
      "metadata": {
        "id": "429c9d10"
      },
      "source": [
        "**Paso 4: Traduccion del texto sumarizado a ingles**\n",
        "Para realizar la traduccion al ingles utilizaremos otro prompt system con el mensaje respuesta del caso anterior pero ahora lo pasaremos en el rol de asistente\n",
        "\n"
      ]
    },
    {
      "cell_type": "code",
      "execution_count": null,
      "id": "c7bc7a9e-2532-40b5-9cda-fdfcfec0a78c",
      "metadata": {
        "colab": {
          "base_uri": "https://localhost:8080/"
        },
        "id": "c7bc7a9e-2532-40b5-9cda-fdfcfec0a78c",
        "outputId": "8691bc2c-aaa2-4ded-eb3d-48d49b8e3206"
      },
      "outputs": [
        {
          "output_type": "stream",
          "name": "stdout",
          "text": [
            "assistant: Music, as a form of cultural expression, varies in styles and instruments by culture, distinguishing them from each other. The harmony in musical genres often defines a culture.\n"
          ]
        }
      ],
      "source": [
        "response = client.chat.completions.create(\n",
        "    model='gpt-4',\n",
        "    max_tokens=50,\n",
        "    messages=[\n",
        "        {\"role\": \"system\", \"content\": \"Eres un asistente que se encarga de traducir textos al ingles. Tu nombre es AI-translate\"},\n",
        "        {\"role\": \"assistant\", \"content\": respuesta_chatgpt},\n",
        "         {\"role\": \"user\", \"content\": \"quisiera que traduzcas este texto\"},\n",
        "    ])\n",
        "\n",
        "message2 = response.choices[0].message\n",
        "# Access properties using dot notation instead of indexing\n",
        "print(\"{}: {}\".format(message2.role, message2.content))"
      ]
    }
  ],
  "metadata": {
    "kernelspec": {
      "display_name": "Python 3 (ipykernel)",
      "language": "python",
      "name": "python3"
    },
    "language_info": {
      "codemirror_mode": {
        "name": "ipython",
        "version": 3
      },
      "file_extension": ".py",
      "mimetype": "text/x-python",
      "name": "python",
      "nbconvert_exporter": "python",
      "pygments_lexer": "ipython3",
      "version": "3.10.12"
    },
    "colab": {
      "provenance": [],
      "include_colab_link": true
    }
  },
  "nbformat": 4,
  "nbformat_minor": 5
}