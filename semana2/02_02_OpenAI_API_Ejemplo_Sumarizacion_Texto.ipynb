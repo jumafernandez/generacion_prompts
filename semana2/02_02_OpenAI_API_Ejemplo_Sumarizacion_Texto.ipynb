{
  "cells": [
    {
      "cell_type": "markdown",
      "metadata": {
        "id": "view-in-github",
        "colab_type": "text"
      },
      "source": [
        "<a href=\"https://colab.research.google.com/github/jumafernandez/generacion_prompts/blob/main/semana2/02_02_OpenAI_API_Ejemplo_Sumarizacion_Texto.ipynb\" target=\"_parent\"><img src=\"https://colab.research.google.com/assets/colab-badge.svg\" alt=\"Open In Colab\"/></a>"
      ]
    },
    {
      "cell_type": "markdown",
      "id": "d2ced989",
      "metadata": {
        "id": "d2ced989"
      },
      "source": [
        "### Ejemplo 2: Sumarización de un Texto"
      ]
    },
    {
      "cell_type": "markdown",
      "id": "df23823e",
      "metadata": {
        "id": "df23823e"
      },
      "source": [
        "**Paso 1: Preparación**\n",
        "\n",
        "Asegúrate de tener instalada la biblioteca `openai` para Python."
      ]
    },
    {
      "cell_type": "markdown",
      "id": "3f9cd7e8",
      "metadata": {
        "id": "3f9cd7e8"
      },
      "source": [
        "**Paso 2: Configuración de la API**\n",
        "\n",
        "Configura tu API de OpenAI con tu clave secreta de API:"
      ]
    },
    {
      "cell_type": "code",
      "execution_count": null,
      "id": "a7bddaa9",
      "metadata": {
        "id": "a7bddaa9"
      },
      "outputs": [],
      "source": [
        "import openai\n",
        "import os"
      ]
    },
    {
      "cell_type": "code",
      "source": [
        "os.environ[\"OPENAI_API_KEY\"] = \"\""
      ],
      "metadata": {
        "id": "mN4hpMUYR_fn"
      },
      "id": "mN4hpMUYR_fn",
      "execution_count": null,
      "outputs": []
    },
    {
      "cell_type": "code",
      "source": [
        "# Create an OpenAI client instance\n",
        "client = openai.OpenAI()"
      ],
      "metadata": {
        "id": "GW0O6hoMR0U4"
      },
      "id": "GW0O6hoMR0U4",
      "execution_count": null,
      "outputs": []
    },
    {
      "cell_type": "markdown",
      "id": "432e5272",
      "metadata": {
        "id": "432e5272"
      },
      "source": [
        "**Paso 3: Creando la Solicitud**\n",
        "\n",
        "Crea una solicitud a la API de OpenAI para sumarizar el siguiente texto:"
      ]
    },
    {
      "cell_type": "markdown",
      "id": "2e8903db",
      "metadata": {
        "id": "2e8903db"
      },
      "source": [
        "> \"OpenAI es una empresa de inteligencia artificial que busca desarrollar IA amigable y segura para beneficio de toda la humanidad. Entre sus desarrollos más destacados se encuentra GPT-3, un modelo de lenguaje de tercera generación que es capaz de escribir textos con un nivel de coherencia y creatividad sorprendentes.\""
      ]
    },
    {
      "cell_type": "code",
      "execution_count": null,
      "id": "119f53fd",
      "metadata": {
        "colab": {
          "base_uri": "https://localhost:8080/"
        },
        "id": "119f53fd",
        "outputId": "7327eb67-7d47-4056-de83-d64be84b390a"
      },
      "outputs": [
        {
          "output_type": "stream",
          "name": "stdout",
          "text": [
            "assistant: OpenAI es una empresa de IA que se enfoca en crear tecnología segura y útil para todos. Su desarrollo más notable es GPT-3, un modelo de lenguaje avanzado y creativo.\n",
            "\n"
          ]
        }
      ],
      "source": [
        "response = client.chat.completions.create(\n",
        "    model='gpt-4',\n",
        "    max_tokens=50,\n",
        "    messages=[\n",
        "        {\"role\": \"system\", \"content\": \"Eres un asistente que realiza resumenes de texto\"},\n",
        "        {\"role\": \"user\", \"content\": \"Sumariza el siguiente texto en no mas de 30 palabras: 'OpenAI es una empresa de inteligencia artificial que busca desarrollar IA amigable y segura para beneficio de toda la humanidad. Entre sus desarrollos más destacados se encuentra GPT-3, un modelo de lenguaje de tercera generación que es capaz de escribir textos con un nivel de coherencia y creatividad sorprendentes.\"},\n",
        "    ])\n",
        "\n",
        "message = response.choices[0].message\n",
        "# Access properties using dot notation instead of indexing\n",
        "print(\"{}: {}\".format(message.role, message.content))"
      ]
    },
    {
      "cell_type": "code",
      "source": [
        "import json\n",
        "\n",
        "# Convert the OpenAI response object to a dictionary\n",
        "response_dict = response.model_dump()\n",
        "\n",
        "# Imprime toda la respuesta como un diccionario\n",
        "print(json.dumps(response_dict, indent=2))"
      ],
      "metadata": {
        "colab": {
          "base_uri": "https://localhost:8080/"
        },
        "id": "ulXpUakwSh6y",
        "outputId": "01e90abf-39a4-4568-d39e-c348dddc3be4"
      },
      "id": "ulXpUakwSh6y",
      "execution_count": null,
      "outputs": [
        {
          "output_type": "stream",
          "name": "stdout",
          "text": [
            "{\n",
            "  \"id\": \"chatcmpl-AucMrvh80jmlTmsHRNFc6m2OGPQiS\",\n",
            "  \"choices\": [\n",
            "    {\n",
            "      \"finish_reason\": \"stop\",\n",
            "      \"index\": 0,\n",
            "      \"logprobs\": null,\n",
            "      \"message\": {\n",
            "        \"content\": \"OpenAI es una compa\\u00f1\\u00eda de inteligencia artificial que crea IA segura y amigable, con desarrollos destacados como GPT-3, un modelo de lenguaje altamente coherente y creativo.\",\n",
            "        \"refusal\": null,\n",
            "        \"role\": \"assistant\",\n",
            "        \"audio\": null,\n",
            "        \"function_call\": null,\n",
            "        \"tool_calls\": null\n",
            "      }\n",
            "    }\n",
            "  ],\n",
            "  \"created\": 1738057217,\n",
            "  \"model\": \"gpt-4-0613\",\n",
            "  \"object\": \"chat.completion\",\n",
            "  \"service_tier\": \"default\",\n",
            "  \"system_fingerprint\": null,\n",
            "  \"usage\": {\n",
            "    \"completion_tokens\": 48,\n",
            "    \"prompt_tokens\": 118,\n",
            "    \"total_tokens\": 166,\n",
            "    \"completion_tokens_details\": {\n",
            "      \"accepted_prediction_tokens\": 0,\n",
            "      \"audio_tokens\": 0,\n",
            "      \"reasoning_tokens\": 0,\n",
            "      \"rejected_prediction_tokens\": 0\n",
            "    },\n",
            "    \"prompt_tokens_details\": {\n",
            "      \"audio_tokens\": 0,\n",
            "      \"cached_tokens\": 0\n",
            "    }\n",
            "  }\n",
            "}\n"
          ]
        }
      ]
    },
    {
      "cell_type": "markdown",
      "id": "7ab498fa",
      "metadata": {
        "id": "7ab498fa"
      },
      "source": [
        "**Paso 4: Interpretando la Respuesta**\n",
        "\n",
        "Una vez que recibas la respuesta de la API, puedes extraer y utilizar el resultado:"
      ]
    },
    {
      "cell_type": "code",
      "execution_count": null,
      "id": "f0814417",
      "metadata": {
        "colab": {
          "base_uri": "https://localhost:8080/"
        },
        "id": "f0814417",
        "outputId": "9cb38770-75d1-49a9-e04a-dcb7f0f54947"
      },
      "outputs": [
        {
          "output_type": "stream",
          "name": "stdout",
          "text": [
            "La sumarización es: OpenAI es una empresa de IA que se enfoca en crear tecnología segura y útil para todos. Su desarrollo más notable es GPT-3, un modelo de lenguaje avanzado y creativo.\n"
          ]
        }
      ],
      "source": [
        "result = response.choices[0].message.content.strip()\n",
        "print(\"La sumarización es:\", result)"
      ]
    },
    {
      "cell_type": "markdown",
      "id": "429c9d10",
      "metadata": {
        "id": "429c9d10"
      },
      "source": [
        "**Paso 5: Ejecución**\n",
        "\n",
        "Al ejecutar este script, deberías obtener una sumarización del texto proporcionado."
      ]
    }
  ],
  "metadata": {
    "kernelspec": {
      "display_name": "Python 3 (ipykernel)",
      "language": "python",
      "name": "python3"
    },
    "language_info": {
      "codemirror_mode": {
        "name": "ipython",
        "version": 3
      },
      "file_extension": ".py",
      "mimetype": "text/x-python",
      "name": "python",
      "nbconvert_exporter": "python",
      "pygments_lexer": "ipython3",
      "version": "3.10.12"
    },
    "colab": {
      "provenance": [],
      "include_colab_link": true
    }
  },
  "nbformat": 4,
  "nbformat_minor": 5
}