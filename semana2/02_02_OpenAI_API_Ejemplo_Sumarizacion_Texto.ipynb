{
  "cells": [
    {
      "cell_type": "markdown",
      "metadata": {
        "id": "view-in-github",
        "colab_type": "text"
      },
      "source": [
        "<a href=\"https://colab.research.google.com/github/jumafernandez/generacion_prompts/blob/main/semana2/02_02_OpenAI_API_Ejemplo_Sumarizacion_Texto.ipynb\" target=\"_parent\"><img src=\"https://colab.research.google.com/assets/colab-badge.svg\" alt=\"Open In Colab\"/></a>"
      ]
    },
    {
      "cell_type": "markdown",
      "id": "d2ced989",
      "metadata": {
        "id": "d2ced989"
      },
      "source": [
        "### Ejemplo 2: Sumarización de un Texto"
      ]
    },
    {
      "cell_type": "markdown",
      "id": "df23823e",
      "metadata": {
        "id": "df23823e"
      },
      "source": [
        "**Paso 1: Preparación**\n",
        "\n",
        "Asegúrate de tener instalada la biblioteca `openai` para Python."
      ]
    },
    {
      "cell_type": "markdown",
      "id": "3f9cd7e8",
      "metadata": {
        "id": "3f9cd7e8"
      },
      "source": [
        "**Paso 2: Configuración de la API**\n",
        "\n",
        "Configura tu API de OpenAI con tu clave secreta de API:"
      ]
    },
    {
      "cell_type": "code",
      "execution_count": 1,
      "id": "a7bddaa9",
      "metadata": {
        "id": "a7bddaa9"
      },
      "outputs": [],
      "source": [
        "import openai\n",
        "import os"
      ]
    },
    {
      "cell_type": "code",
      "source": [
        "os.environ[\"OPENAI_API_KEY\"] = \"\""
      ],
      "metadata": {
        "id": "mN4hpMUYR_fn"
      },
      "id": "mN4hpMUYR_fn",
      "execution_count": 2,
      "outputs": []
    },
    {
      "cell_type": "code",
      "source": [
        "# Creamos una instancia de cliente OpenAI\n",
        "client = openai.OpenAI()"
      ],
      "metadata": {
        "id": "GW0O6hoMR0U4"
      },
      "id": "GW0O6hoMR0U4",
      "execution_count": 3,
      "outputs": []
    },
    {
      "cell_type": "markdown",
      "id": "432e5272",
      "metadata": {
        "id": "432e5272"
      },
      "source": [
        "**Paso 3: Creando la Solicitud**\n",
        "\n",
        "Crea una solicitud a la API de OpenAI para sumarizar el siguiente texto:"
      ]
    },
    {
      "cell_type": "markdown",
      "id": "2e8903db",
      "metadata": {
        "id": "2e8903db"
      },
      "source": [
        "> \"OpenAI es una empresa de inteligencia artificial que busca desarrollar IA amigable y segura para beneficio de toda la humanidad. Entre sus desarrollos más destacados se encuentra GPT-3, un modelo de lenguaje de tercera generación que es capaz de escribir textos con un nivel de coherencia y creatividad sorprendentes.\""
      ]
    },
    {
      "cell_type": "code",
      "execution_count": 4,
      "id": "119f53fd",
      "metadata": {
        "id": "119f53fd"
      },
      "outputs": [],
      "source": [
        "response = client.chat.completions.create(\n",
        "    model='gpt-4',\n",
        "    max_tokens=50,\n",
        "    messages=[\n",
        "        {\"role\": \"system\", \"content\": \"Eres un asistente que realiza resumenes de texto\"},\n",
        "        {\"role\": \"user\", \"content\": \"Sumariza el siguiente texto en no mas de 30 palabras: 'OpenAI es una empresa de inteligencia artificial que busca desarrollar IA amigable y segura para beneficio de toda la humanidad. Entre sus desarrollos más destacados se encuentra GPT-3, un modelo de lenguaje de tercera generación que es capaz de escribir textos con un nivel de coherencia y creatividad sorprendentes.\"},\n",
        "    ])"
      ]
    },
    {
      "cell_type": "code",
      "source": [
        "import json\n",
        "\n",
        "# Convert the OpenAI response object to a dictionary\n",
        "response_dict = response.model_dump()\n",
        "\n",
        "# Imprime toda la respuesta como un diccionario\n",
        "print(json.dumps(response_dict, indent=2))"
      ],
      "metadata": {
        "colab": {
          "base_uri": "https://localhost:8080/"
        },
        "id": "ulXpUakwSh6y",
        "outputId": "3374a65d-e296-46f1-8119-1baae4d2c231"
      },
      "id": "ulXpUakwSh6y",
      "execution_count": 5,
      "outputs": [
        {
          "output_type": "stream",
          "name": "stdout",
          "text": [
            "{\n",
            "  \"id\": \"chatcmpl-AucvcemprzuhG0rRUoukNoGMCDGKZ\",\n",
            "  \"choices\": [\n",
            "    {\n",
            "      \"finish_reason\": \"length\",\n",
            "      \"index\": 0,\n",
            "      \"logprobs\": null,\n",
            "      \"message\": {\n",
            "        \"content\": \"OpenAI es una compa\\u00f1\\u00eda de inteligencia artificial orientada a crear IA segura y amigable, conocida por su destacado modelo de lenguaje de tercera generaci\\u00f3n GPT-3, capaz de componer\",\n",
            "        \"refusal\": null,\n",
            "        \"role\": \"assistant\",\n",
            "        \"audio\": null,\n",
            "        \"function_call\": null,\n",
            "        \"tool_calls\": null\n",
            "      }\n",
            "    }\n",
            "  ],\n",
            "  \"created\": 1738059372,\n",
            "  \"model\": \"gpt-4-0613\",\n",
            "  \"object\": \"chat.completion\",\n",
            "  \"service_tier\": \"default\",\n",
            "  \"system_fingerprint\": null,\n",
            "  \"usage\": {\n",
            "    \"completion_tokens\": 50,\n",
            "    \"prompt_tokens\": 118,\n",
            "    \"total_tokens\": 168,\n",
            "    \"completion_tokens_details\": {\n",
            "      \"accepted_prediction_tokens\": 0,\n",
            "      \"audio_tokens\": 0,\n",
            "      \"reasoning_tokens\": 0,\n",
            "      \"rejected_prediction_tokens\": 0\n",
            "    },\n",
            "    \"prompt_tokens_details\": {\n",
            "      \"audio_tokens\": 0,\n",
            "      \"cached_tokens\": 0\n",
            "    }\n",
            "  }\n",
            "}\n"
          ]
        }
      ]
    },
    {
      "cell_type": "code",
      "source": [
        "message = response.choices[0].message\n",
        "# Access properties using dot notation instead of indexing\n",
        "print(\"{}: {}\".format(message.role, message.content))"
      ],
      "metadata": {
        "colab": {
          "base_uri": "https://localhost:8080/"
        },
        "id": "JFiR1ZTqaJHj",
        "outputId": "14117878-0761-4f9d-ad73-40aec92ee77c"
      },
      "id": "JFiR1ZTqaJHj",
      "execution_count": 6,
      "outputs": [
        {
          "output_type": "stream",
          "name": "stdout",
          "text": [
            "assistant: OpenAI es una compañía de inteligencia artificial orientada a crear IA segura y amigable, conocida por su destacado modelo de lenguaje de tercera generación GPT-3, capaz de componer\n"
          ]
        }
      ]
    },
    {
      "cell_type": "markdown",
      "id": "7ab498fa",
      "metadata": {
        "id": "7ab498fa"
      },
      "source": [
        "**Paso 4: Interpretando la Respuesta**\n",
        "\n",
        "Una vez que recibas la respuesta de la API, puedes extraer y utilizar el resultado:"
      ]
    },
    {
      "cell_type": "code",
      "execution_count": 7,
      "id": "f0814417",
      "metadata": {
        "colab": {
          "base_uri": "https://localhost:8080/"
        },
        "id": "f0814417",
        "outputId": "899c4941-89a2-49b2-fb26-bb914ca3b8cd"
      },
      "outputs": [
        {
          "output_type": "stream",
          "name": "stdout",
          "text": [
            "La sumarización es: OpenAI es una compañía de inteligencia artificial orientada a crear IA segura y amigable, conocida por su destacado modelo de lenguaje de tercera generación GPT-3, capaz de componer\n"
          ]
        }
      ],
      "source": [
        "result = response.choices[0].message.content.strip()\n",
        "print(\"La sumarización es:\", result)"
      ]
    },
    {
      "cell_type": "markdown",
      "id": "429c9d10",
      "metadata": {
        "id": "429c9d10"
      },
      "source": [
        "**Paso 5: Ejecución**\n",
        "\n",
        "Al ejecutar este script, deberías obtener una sumarización del texto proporcionado."
      ]
    }
  ],
  "metadata": {
    "kernelspec": {
      "display_name": "Python 3 (ipykernel)",
      "language": "python",
      "name": "python3"
    },
    "language_info": {
      "codemirror_mode": {
        "name": "ipython",
        "version": 3
      },
      "file_extension": ".py",
      "mimetype": "text/x-python",
      "name": "python",
      "nbconvert_exporter": "python",
      "pygments_lexer": "ipython3",
      "version": "3.10.12"
    },
    "colab": {
      "provenance": [],
      "include_colab_link": true
    }
  },
  "nbformat": 4,
  "nbformat_minor": 5
}