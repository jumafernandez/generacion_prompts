{
  "cells": [
    {
      "cell_type": "markdown",
      "metadata": {
        "id": "view-in-github",
        "colab_type": "text"
      },
      "source": [
        "<a href=\"https://colab.research.google.com/github/jumafernandez/generacion_prompts/blob/main/semana2/02_03_OpenAI_API_Ejemplo_Resolucion_Ecuacion.ipynb\" target=\"_parent\"><img src=\"https://colab.research.google.com/assets/colab-badge.svg\" alt=\"Open In Colab\"/></a>"
      ]
    },
    {
      "cell_type": "markdown",
      "id": "122fdb94",
      "metadata": {
        "id": "122fdb94"
      },
      "source": [
        "### Ejemplo 1: Resolviendo una Ecuación Simple"
      ]
    },
    {
      "cell_type": "markdown",
      "id": "f0662011",
      "metadata": {
        "id": "f0662011"
      },
      "source": [
        "**Paso 1: Preparación**\n",
        "\n",
        "Prepara tu entorno de desarrollo asegurándote de tener todas las bibliotecas necesarias instaladas y configuradas. Esto incluiría la biblioteca `openai` para Python."
      ]
    },
    {
      "cell_type": "markdown",
      "id": "ea12ca50",
      "metadata": {
        "id": "ea12ca50"
      },
      "source": [
        "**Paso 2: Configuración de la API**\n",
        "\n",
        "Configura tu API de OpenAI con tu clave secreta de API:"
      ]
    },
    {
      "cell_type": "code",
      "execution_count": null,
      "id": "e2d69381",
      "metadata": {
        "id": "e2d69381"
      },
      "outputs": [],
      "source": [
        "import openai\n",
        "import os"
      ]
    },
    {
      "cell_type": "code",
      "source": [
        "os.environ[\"OPENAI_API_KEY\"] = \"\""
      ],
      "metadata": {
        "id": "uMLHrmqLWJqN"
      },
      "id": "uMLHrmqLWJqN",
      "execution_count": null,
      "outputs": []
    },
    {
      "cell_type": "code",
      "source": [
        "# Create an OpenAI client instance\n",
        "client = openai.OpenAI()"
      ],
      "metadata": {
        "id": "xcAk0R6pWJs7"
      },
      "id": "xcAk0R6pWJs7",
      "execution_count": null,
      "outputs": []
    },
    {
      "cell_type": "markdown",
      "id": "10449e58",
      "metadata": {
        "id": "10449e58"
      },
      "source": [
        "**Paso 3: Creando la Solicitud**\n",
        "\n",
        "Crea una solicitud a la API de OpenAI con la instrucción del problema que deseas resolver. En este caso, resolveremos la ecuación x + 10 = 5:"
      ]
    },
    {
      "cell_type": "code",
      "execution_count": null,
      "id": "02d3765a",
      "metadata": {
        "colab": {
          "base_uri": "https://localhost:8080/"
        },
        "id": "02d3765a",
        "outputId": "92f6ba0d-79e8-4c5c-b9ed-b078faba97d7"
      },
      "outputs": [
        {
          "output_type": "stream",
          "name": "stdout",
          "text": [
            "assistant: Para resolver la ecuación, debes restar 10 de ambos lados. \n",
            "\n",
            "x + 10 - 10 = 5 - 10\n",
            "\n",
            "Esto te da:\n",
            "\n",
            "x = -5\n"
          ]
        }
      ],
      "source": [
        "response = client.chat.completions.create(\n",
        "    model='gpt-4',\n",
        "    max_tokens=50,\n",
        "    messages=[\n",
        "        {\"role\": \"system\", \"content\": \"Eres un asistente útil.\"},\n",
        "        {\"role\": \"user\", \"content\": \"Resuelve la ecuación: x + 10 = 5\"},\n",
        "    ])\n",
        "\n",
        "message = response.choices[0].message\n",
        "\n",
        "print(\"{}: {}\".format(message.role, message.content))"
      ]
    },
    {
      "cell_type": "markdown",
      "id": "26fa77f2",
      "metadata": {
        "id": "26fa77f2"
      },
      "source": [
        "**Paso 4: Interpretando la Respuesta**\n",
        "\n",
        "Una vez que recibas la respuesta de la API, puedes extraer y utilizar el resultado:"
      ]
    },
    {
      "cell_type": "code",
      "execution_count": null,
      "id": "3f10b522",
      "metadata": {
        "colab": {
          "base_uri": "https://localhost:8080/"
        },
        "id": "3f10b522",
        "outputId": "5050be9f-756f-4d5d-c54a-aa940b3e8e22"
      },
      "outputs": [
        {
          "output_type": "stream",
          "name": "stdout",
          "text": [
            "La solución es: Para resolver la ecuación, debes restar 10 de ambos lados. \n",
            "\n",
            "x + 10 - 10 = 5 - 10\n",
            "\n",
            "Esto te da:\n",
            "\n",
            "x = -5\n"
          ]
        }
      ],
      "source": [
        "result = response.choices[0].message.content.strip()\n",
        "print(\"La solución es:\", result)"
      ]
    },
    {
      "cell_type": "markdown",
      "id": "94d4783d",
      "metadata": {
        "id": "94d4783d"
      },
      "source": [
        "**Paso 5: Ejecución**\n",
        "\n",
        "Al ejecutar este script, deberías obtener la solución correcta para la ecuación."
      ]
    },
    {
      "cell_type": "markdown",
      "id": "9c5a3f69",
      "metadata": {
        "id": "9c5a3f69"
      },
      "source": [
        "### Resultado Esperado\n",
        "\n",
        "Después de ejecutar el script, deberías ver una salida similar a:\n",
        "\n",
        "```\n",
        "La solución es: x = -5\n",
        "```"
      ]
    }
  ],
  "metadata": {
    "kernelspec": {
      "display_name": "Python 3 (ipykernel)",
      "language": "python",
      "name": "python3"
    },
    "language_info": {
      "codemirror_mode": {
        "name": "ipython",
        "version": 3
      },
      "file_extension": ".py",
      "mimetype": "text/x-python",
      "name": "python",
      "nbconvert_exporter": "python",
      "pygments_lexer": "ipython3",
      "version": "3.10.12"
    },
    "colab": {
      "provenance": [],
      "include_colab_link": true
    }
  },
  "nbformat": 4,
  "nbformat_minor": 5
}